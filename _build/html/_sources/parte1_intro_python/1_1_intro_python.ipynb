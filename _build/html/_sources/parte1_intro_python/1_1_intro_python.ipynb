{
 "cells": [
  {
   "cell_type": "code",
   "execution_count": null,
   "id": "f4ce784b",
   "metadata": {
    "vscode": {
     "languageId": "plaintext"
    }
   },
   "outputs": [],
   "source": []
  },
  {
   "cell_type": "markdown",
   "id": "2a2de84f",
   "metadata": {},
   "source": [
    "# Fundamentos de Python\n",
    "\n",
    "En este notebook aprenderás los conceptos básicos de Python, como variables, tipos de datos y operadores. Estos son fundamentales para comenzar a programar en ciencia de datos."
   ]
  },
  {
   "cell_type": "markdown",
   "id": "9ca23924",
   "metadata": {},
   "source": [
    "# Fundamentos de Python\n",
    "\n",
    "## Python Notebooks\n",
    "Los notebooks de Python proveen un ambiente interactivo para experimentación de código, visualización y publicación de resultados.\n",
    "\n",
    "Las casillas de color gris claro que se encuentran a continuación se denominan celdas y estas pueden contener código (code) o texto formateado (Markdown).\n",
    "\n",
    "* [Flechas arriba / abajo] Mover arriba y abajo de celda a celda.\n",
    "* [Enter] Ingresa una celda para editarla.\n",
    "* [Shift + Enter] Evalúa una celda, muestra el resultado y pasa a la siguiente celda.\n",
    "* [Ctrl + Enter] Evalúa una celda, muestra el resultado y permanece en la celda.\n",
    "* [Alt + Enter] Evalúa una celda, muestra el resultado e inserta una celda abajo.\n",
    "* [Esc] - [D] - [D] Eliminar una celda.\n",
    "* [Esc] - [Z] Deshacer eliminar una celda.\n",
    "* [Esc] - [B] Insertar una celda debajo de la celda actual.\n",
    "* [Esc] - [A] Insertar una celda sobre la celda actual.\n",
    "* [Esc] - [M] Convierte la celda de código en markdown.\n",
    "* [Esc] - [Y] Convierte la celda de Markdown a código.\n",
    "\n",
    "Para más atajos de teclado vaya al menú Ayuda -> Atajos de teclado"
   ]
  },
  {
   "cell_type": "code",
   "execution_count": null,
   "id": "9bf28ea5",
   "metadata": {},
   "outputs": [],
   "source": [
    "my_name = \"Wilmer Pineda\" # Crear variables en el estilo snake_case"
   ]
  },
  {
   "cell_type": "markdown",
   "id": "ee4eca2b",
   "metadata": {},
   "source": [
    "## Variables en Python\n",
    "\n",
    "**Variable**: Es donde se guarda determinada información (texto, números, booleanas, etc.)\n",
    "\n",
    "Cada variable tiene un nombre para referirse a ella, Python tiene en cuenta si escribimos en mayúsculas o minúsculas la variable (case sensitive).\n",
    "\n",
    "Para definir variables en Python se realiza de la siguiente manera:\n",
    "\n",
    "```python\n",
    "# Asignando un valor\n",
    "variable = valor\n",
    "# Asignando varios valores\n",
    "variable1, variable2 = valor1, valor2\n",
    "```\n",
    "\n",
    "Python al asignar la variable define cual es el tipo de datos más apropiado.  \n",
    "\n",
    "### Números\n",
    "\n",
    "En números hay dos tipos principales, los números enteros (int) y los reales (float).  El separador decimal es el punto.\n",
    "\n",
    "```python\n",
    "entero = 2\n",
    "real = 2.5\n",
    "```\n",
    "\n",
    "### Texto\n",
    "\n",
    "Las variables que almacenan texto se denominan strings (str).  Se deben de poner entre commillas sencillas o dobles, si el texto es multilinea con triple comilla.\n",
    "\n",
    "```python\n",
    "cadena = \"Hola\"\n",
    "cadena = 'Hola'\n",
    "multilinea = \"\"\" Hola\n",
    "                Mundo \"\"\"\n",
    "multilinea = ''' Hola\n",
    "                Mundo '''             \n",
    "```\n",
    "\n",
    "### Listas\n",
    "\n",
    "Son conjuntos ordenados de elementos (números, texto, listas, etc). Se delimitan por corchetes (`[]`) y los elementos se separan por comas. Las listas son dinamicas, es decir que son mutables.\n",
    "\n",
    "```python\n",
    "listaNumeros = [1,2,3]\n",
    "listaCadenas = ['a','b','c']\n",
    "listaListas = [[1,2],[3,4],[5,6]]\n",
    "listaMixtas = [1,'Grupo',[1,2,3,4]]\n",
    "listaVacia = []\n",
    "```\n",
    "\n",
    "### Tuplas\n",
    "\n",
    "Es un conjunto ordenado e inmutable de elementos del mismo o diferente tipo. Las tuplas se representan escribiendo los elementos entre paréntesis (`()`) y separados por comas. Las tuplas son estaticas, son inmutables, una vez creada no puede ser modificada.\n",
    "\n",
    "```python\n",
    "tuplaNumeros = (1,2,3)\n",
    "tuplaCadenas = ('a','b','c')\n",
    "tuplaListas = ([1,2],[3,4],[5,6])\n",
    "tuplaMixtas = (1,'Grupo',[1,2,3,4])\n",
    "```\n",
    "\n",
    "### Diccionarios\n",
    "\n",
    "Permite almacenar cualquier tipo de valor como enteros, cadenas, listas, etc.  Los diccionarios permiten además identificar cada elemento por una clave (key)\n",
    "\n",
    "```python\n",
    "dictNumeros = {'k1':1,'k2':2}\n",
    "dictCadenas = {'k1':'a','k2':'b','k3':'c'}\n",
    "dictListas = {'k1':[1,2],'k2':[3,4],'k3':[5,6]}\n",
    "dictMixto = {'k1':1,'k2':'Grupo','k3':[1,2,3,4]}\n",
    "```\n",
    "\n",
    "### Booleano\n",
    "\n",
    "Una variable booleana es una variable que sólo puede tomar dos posibles valores: Verdadero (True) o Falso (False).\n",
    "\n",
    "```python\n",
    "verdadero = True\n",
    "falso = False\n",
    "```\n",
    "\n",
    "### None\n",
    "\n",
    "Es el tipo de dato que en otros lenguajes se conoce como Nulo (NAN).  En Python es NoneType.\n",
    "\n",
    "```python\n",
    "nulo = None\n",
    "```\n",
    "\n",
    "### Imprimir variables\n",
    "\n",
    "El comando `print(variable)` imprime el valor de la variable.\n",
    "\n",
    "\n",
    "### Comentarios\n",
    "\n",
    "Los comentarios en linea se define con `#`"
   ]
  },
  {
   "cell_type": "code",
   "execution_count": null,
   "id": "0bb17161",
   "metadata": {},
   "outputs": [],
   "source": [
    "# Declarando un entero (int)\n",
    "x = 2\n",
    "print(\"Es un entero: \", x)"
   ]
  },
  {
   "cell_type": "code",
   "execution_count": null,
   "id": "38df8b90",
   "metadata": {},
   "outputs": [],
   "source": [
    "x = 5*5\n",
    "print(x)"
   ]
  },
  {
   "cell_type": "code",
   "execution_count": null,
   "id": "f2b99e31",
   "metadata": {},
   "outputs": [],
   "source": [
    "x"
   ]
  },
  {
   "cell_type": "code",
   "execution_count": null,
   "id": "bc10640f",
   "metadata": {},
   "outputs": [],
   "source": [
    "# Declarando un real (float)\n",
    "y = 2.5\n",
    "print(\"Es un real: \", y)"
   ]
  },
  {
   "cell_type": "code",
   "execution_count": null,
   "id": "3d4c2449",
   "metadata": {},
   "outputs": [],
   "source": [
    "# Declarando un texto\n",
    "mensaje = \"Hola Mundo\"\n",
    "print(mensaje, \" Grupo\")\n",
    "mensaje = 'Hola Mundo'\n",
    "print(mensaje, \" Grupo\")"
   ]
  },
  {
   "cell_type": "code",
   "execution_count": null,
   "id": "3c7a8ed0",
   "metadata": {},
   "outputs": [],
   "source": [
    "# Multilinea\n",
    "multilinea = \"\"\"Hola \n",
    "                Mundo\"\"\"\n",
    "print(multilinea, \" Grupo\")\n",
    "multilinea = '''Hola \n",
    "                Mundo'''\n",
    "print(multilinea, \" Grupo\")"
   ]
  },
  {
   "cell_type": "code",
   "execution_count": null,
   "id": "d4dd3bf1",
   "metadata": {},
   "outputs": [],
   "source": [
    "multilinea"
   ]
  },
  {
   "cell_type": "code",
   "execution_count": null,
   "id": "2c37a8cc",
   "metadata": {},
   "outputs": [],
   "source": [
    "# Declarando una lista\n",
    "listaNumeros = [1,2,3]\n",
    "print(listaNumeros)\n",
    "listaCadenas = ['a','b','c']\n",
    "print(listaCadenas)\n",
    "listaListas = [[1,2],[3,4],[5,6]]\n",
    "print(listaListas)\n",
    "listaMixtas = [1,'Grupo',[1,2,3,4]]\n",
    "print(listaMixtas)\n",
    "listaVacia = []\n",
    "print(listaVacia)"
   ]
  },
  {
   "cell_type": "code",
   "execution_count": null,
   "id": "5710022c",
   "metadata": {},
   "outputs": [],
   "source": [
    "listaNumeros[0] = 4"
   ]
  },
  {
   "cell_type": "code",
   "execution_count": null,
   "id": "1d4e3095",
   "metadata": {},
   "outputs": [],
   "source": [
    "listaNumeros"
   ]
  },
  {
   "cell_type": "code",
   "execution_count": null,
   "id": "72895740",
   "metadata": {},
   "outputs": [],
   "source": [
    "tuplaNumeros = (1,2,3)"
   ]
  },
  {
   "cell_type": "code",
   "execution_count": null,
   "id": "d2cafce1",
   "metadata": {},
   "outputs": [],
   "source": [
    "# Declarando una Tupla\n",
    "tuplaNumeros = (1,2,3)\n",
    "print(tuplaNumeros)\n",
    "tuplaCadenas = ('a','b','c')\n",
    "print(tuplaCadenas)\n",
    "tuplaListas = ([1,2],[3,4],[5,6])\n",
    "print(tuplaListas)\n",
    "tuplaMixtas = (1,'Grupo',[1,2,3,4])\n",
    "print(tuplaMixtas)"
   ]
  },
  {
   "cell_type": "code",
   "execution_count": null,
   "id": "60bae5e2",
   "metadata": {},
   "outputs": [],
   "source": [
    "dict_example = {\n",
    "    \"glossary\": {\n",
    "        \"title\": \"example glossary\",\n",
    "\t\t\"GlossDiv\": {\n",
    "            \"title\": \"S\",\n",
    "\t\t\t\"GlossList\": {\n",
    "                \"GlossEntry\": {\n",
    "                    \"ID\": \"SGML\",\n",
    "\t\t\t\t\t\"SortAs\": \"SGML\",\n",
    "\t\t\t\t\t\"GlossTerm\": \"Standard Generalized Markup Language\",\n",
    "\t\t\t\t\t\"Acronym\": \"SGML\",\n",
    "\t\t\t\t\t\"Abbrev\": \"ISO 8879:1986\",\n",
    "\t\t\t\t\t\"GlossDef\": {\n",
    "                        \"para\": \"A meta-markup language, used to create markup languages such as DocBook.\",\n",
    "\t\t\t\t\t\t\"GlossSeeAlso\": [\"GML\", \"XML\"]\n",
    "                    },\n",
    "\t\t\t\t\t\"GlossSee\": \"markup\"\n",
    "                }\n",
    "            }\n",
    "        }\n",
    "    }\n",
    "}"
   ]
  },
  {
   "cell_type": "code",
   "execution_count": null,
   "id": "9c87158b",
   "metadata": {},
   "outputs": [],
   "source": [
    "dict_example.keys()"
   ]
  },
  {
   "cell_type": "code",
   "execution_count": null,
   "id": "5c3c7c13",
   "metadata": {},
   "outputs": [],
   "source": [
    "dict_example['glossary']['GlossDiv']"
   ]
  },
  {
   "cell_type": "code",
   "execution_count": null,
   "id": "1cfec458",
   "metadata": {},
   "outputs": [],
   "source": []
  },
  {
   "cell_type": "code",
   "execution_count": null,
   "id": "af1e65d2",
   "metadata": {},
   "outputs": [],
   "source": []
  },
  {
   "cell_type": "code",
   "execution_count": null,
   "id": "9b1782ef",
   "metadata": {},
   "outputs": [],
   "source": []
  },
  {
   "cell_type": "code",
   "execution_count": null,
   "id": "11d375fe",
   "metadata": {},
   "outputs": [],
   "source": [
    "# Declarando Diccionarios\n",
    "dictNumeros = {'k1':1,'k2':2}\n",
    "print(dictNumeros)\n",
    "dictCadenas = {'k1':'a','k2':'b','k3':'c'}\n",
    "print(dictCadenas)\n",
    "dictListas = {'k1':[1,2],'k2':[3,4],'k3':[5,6]}\n",
    "print(dictListas)\n",
    "dictMixto = {'k1':1,'k2':'Grupo','k3':[1,2,3,4]}\n",
    "print(dictMixto)"
   ]
  },
  {
   "cell_type": "code",
   "execution_count": null,
   "id": "cdbb4e59",
   "metadata": {},
   "outputs": [],
   "source": [
    "# Declarando Booleanos\n",
    "verdadero = True\n",
    "falso = False"
   ]
  },
  {
   "cell_type": "code",
   "execution_count": null,
   "id": "0c8a18fa",
   "metadata": {},
   "outputs": [],
   "source": [
    "# Declarando Nulos\n",
    "nulo = None"
   ]
  },
  {
   "cell_type": "code",
   "execution_count": null,
   "id": "3fc11f32",
   "metadata": {},
   "outputs": [],
   "source": [
    "# Asignaciones Múltiples\n",
    "var1, var2, var3 =  ( 5 + 4),  \"Sara\", [13, 17, 23]\n",
    "print( \"var1 =\", var1 )\n",
    "print( \"var2 =\", var2 )\n",
    "print( \"var3 =\", var3 )"
   ]
  },
  {
   "cell_type": "code",
   "execution_count": null,
   "id": "edb78380",
   "metadata": {},
   "outputs": [],
   "source": [
    "# Cambiar valores entre variables\n",
    "var1, var2 = var2, var1 \n",
    "\n",
    "print( \"var1 =\", var1 )\n",
    "print( \"var2 =\", var2 )"
   ]
  },
  {
   "cell_type": "code",
   "execution_count": null,
   "id": "f6a7d317",
   "metadata": {},
   "outputs": [],
   "source": [
    "# Crear una tupla con variables\n",
    "tupla = var1, var2, var3\n",
    "print(tupla)"
   ]
  },
  {
   "cell_type": "code",
   "execution_count": null,
   "id": "c0a99a5a",
   "metadata": {},
   "outputs": [],
   "source": [
    "# Asignar valores de una tupla a variables\n",
    "x1, x2, x3 = tupla \n",
    "\n",
    "print( \"  x1 =\", x1, \"   x2 =\", x2, \"   x3 =\", x3 )"
   ]
  },
  {
   "cell_type": "markdown",
   "id": "4774b610",
   "metadata": {},
   "source": [
    "## Tipo de Datos\n",
    "\n",
    "Para conocer el tipo de dato de una variable se usa el metodo `type`\n",
    "\n",
    "```python\n",
    "type(x)\n",
    "````"
   ]
  },
  {
   "cell_type": "code",
   "execution_count": null,
   "id": "35ec22aa",
   "metadata": {},
   "outputs": [],
   "source": [
    "print(x)\n",
    "type(x)"
   ]
  },
  {
   "cell_type": "code",
   "execution_count": null,
   "id": "964fc52f",
   "metadata": {},
   "outputs": [],
   "source": [
    "print(y)\n",
    "type(y)"
   ]
  },
  {
   "cell_type": "code",
   "execution_count": null,
   "id": "40ea5f79",
   "metadata": {},
   "outputs": [],
   "source": [
    "type(mensaje)"
   ]
  },
  {
   "cell_type": "code",
   "execution_count": null,
   "id": "611cb5c1",
   "metadata": {},
   "outputs": [],
   "source": [
    "type(listaNumeros)"
   ]
  },
  {
   "cell_type": "code",
   "execution_count": null,
   "id": "4c73c46b",
   "metadata": {},
   "outputs": [],
   "source": [
    "type(tuplaListas)"
   ]
  },
  {
   "cell_type": "code",
   "execution_count": null,
   "id": "67ee5204",
   "metadata": {},
   "outputs": [],
   "source": [
    "type(dictCadenas)"
   ]
  },
  {
   "cell_type": "code",
   "execution_count": null,
   "id": "2ebc9df3",
   "metadata": {},
   "outputs": [],
   "source": [
    "type(verdadero)"
   ]
  },
  {
   "cell_type": "code",
   "execution_count": null,
   "id": "15898d8e",
   "metadata": {},
   "outputs": [],
   "source": [
    "type(nulo)"
   ]
  },
  {
   "cell_type": "markdown",
   "id": "e02a9736",
   "metadata": {},
   "source": [
    "## Operadores Aritméticos\n",
    "\n",
    "| Symbol | Task Performed |\n",
    "|----|---|\n",
    "| +  | Addition |\n",
    "| -  | Subtraction |\n",
    "| /  | division |\n",
    "| %  | mod |\n",
    "| *  | multiplication |\n",
    "| //  | floor division |\n",
    "| **  | exponentiation |\n",
    "| ~   | negation |\n",
    "\n",
    "Python dependiendo del tipo de dato realiza las operaciones."
   ]
  },
  {
   "cell_type": "code",
   "execution_count": null,
   "id": "43b0b24a",
   "metadata": {},
   "outputs": [],
   "source": [
    "# Adición y sustracción\n",
    "print(5 + 5)\n",
    "print(5 - 5)"
   ]
  },
  {
   "cell_type": "code",
   "execution_count": null,
   "id": "19d6bc12",
   "metadata": {},
   "outputs": [],
   "source": [
    "# Multiplicación y división\n",
    "print(3 * 5)\n",
    "print(10 / 2)"
   ]
  },
  {
   "cell_type": "code",
   "execution_count": null,
   "id": "ba13cdbe",
   "metadata": {},
   "outputs": [],
   "source": [
    "# Exponenciación y Modulo\n",
    "print(4 ** 2)\n",
    "print(18 % 7)"
   ]
  },
  {
   "cell_type": "code",
   "execution_count": null,
   "id": "a7679748",
   "metadata": {},
   "outputs": [],
   "source": [
    "# Operaciones con cadenas\n",
    "mensaje1 = \"Hola \"\n",
    "mensaje2 = \"Grupo\"\n",
    "print(mensaje1 + mensaje2)"
   ]
  },
  {
   "cell_type": "code",
   "execution_count": null,
   "id": "24edc3ff",
   "metadata": {},
   "outputs": [],
   "source": [
    "# Operaciones con cadenas\n",
    "mensaje1 = \"Hola \"\n",
    "print(mensaje1*4)"
   ]
  },
  {
   "cell_type": "code",
   "execution_count": null,
   "id": "8ba12b86",
   "metadata": {},
   "outputs": [],
   "source": [
    "print(verdadero + falso)"
   ]
  },
  {
   "cell_type": "code",
   "execution_count": null,
   "id": "8c21cc37",
   "metadata": {},
   "outputs": [],
   "source": [
    "print(verdadero + verdadero)"
   ]
  },
  {
   "cell_type": "code",
   "execution_count": null,
   "id": "66202d9b",
   "metadata": {},
   "outputs": [],
   "source": [
    "print(1 + 2.5)"
   ]
  },
  {
   "cell_type": "markdown",
   "id": "4e418356",
   "metadata": {},
   "source": [
    "## Operadores Relacionales\n",
    "\n",
    "| Symbol | Task Performed |\n",
    "|----|---|\n",
    "| == | True, if values are equal |\n",
    "| is | True, if identical, i.e. the **same** object  |\n",
    "| !=  | True, if not equal to |\n",
    "| < | less than |\n",
    "| > | greater than |\n",
    "| <=  | less than or equal to |\n",
    "| >=  | greater than or equal to |\n",
    "| in  | test pertenence to a collection (list, set, dictionary) |"
   ]
  },
  {
   "cell_type": "code",
   "execution_count": null,
   "id": "12ef7b17",
   "metadata": {},
   "outputs": [],
   "source": [
    "x == 2"
   ]
  },
  {
   "cell_type": "code",
   "execution_count": null,
   "id": "c0172ab7",
   "metadata": {},
   "outputs": [],
   "source": [
    "x != 2"
   ]
  },
  {
   "cell_type": "code",
   "execution_count": null,
   "id": "0d0ecac3",
   "metadata": {},
   "outputs": [],
   "source": [
    "x > 1"
   ]
  },
  {
   "cell_type": "code",
   "execution_count": null,
   "id": "113fdba3",
   "metadata": {},
   "outputs": [],
   "source": [
    "listaNumeros"
   ]
  },
  {
   "cell_type": "code",
   "execution_count": null,
   "id": "55f9884e",
   "metadata": {},
   "outputs": [],
   "source": [
    "listaNumeros == [1,2,3]"
   ]
  },
  {
   "cell_type": "code",
   "execution_count": null,
   "id": "4493f714",
   "metadata": {},
   "outputs": [],
   "source": [
    "listaNumeros is [1,2,3]"
   ]
  },
  {
   "cell_type": "code",
   "execution_count": null,
   "id": "777b68a5",
   "metadata": {},
   "outputs": [],
   "source": [
    "objecto = listaNumeros"
   ]
  },
  {
   "cell_type": "code",
   "execution_count": null,
   "id": "038c773b",
   "metadata": {},
   "outputs": [],
   "source": [
    "listaNumeros is objecto"
   ]
  },
  {
   "cell_type": "code",
   "execution_count": null,
   "id": "269cf5e1",
   "metadata": {},
   "outputs": [],
   "source": [
    "nulo is None"
   ]
  },
  {
   "cell_type": "markdown",
   "id": "c12e8156",
   "metadata": {},
   "source": [
    "## Conversiones entre tipos\n",
    "\n",
    "Python cuenta con la conversión de tipos de datos (*cast* o *casting*) que especifica explicitamente el tipo de dato.\n",
    "\n",
    "```python\n",
    "int(variable)\n",
    "float(variable)\n",
    "str(variable)\n",
    "bool(variable)\n",
    "list(variable)\n",
    "tuple(variable)\n",
    "dict(variable)\n",
    "```"
   ]
  },
  {
   "cell_type": "code",
   "execution_count": null,
   "id": "74a5adeb",
   "metadata": {},
   "outputs": [],
   "source": [
    "# Convertir Lista a tupla\n",
    "print(listaCadenas)\n",
    "print(type(listaCadenas))\n",
    "print(tuple(listaCadenas))\n",
    "print(type(tuple(listaCadenas)))"
   ]
  },
  {
   "cell_type": "code",
   "execution_count": null,
   "id": "3d90aa26",
   "metadata": {},
   "outputs": [],
   "source": [
    "# Convertir de cadena a entero\n",
    "print('123')\n",
    "print(type('123'))\n",
    "print(int('123'))\n",
    "print(type(int('123')))"
   ]
  },
  {
   "cell_type": "code",
   "execution_count": null,
   "id": "babe843f",
   "metadata": {},
   "outputs": [],
   "source": [
    "float(\"Juan\")"
   ]
  },
  {
   "cell_type": "code",
   "execution_count": null,
   "id": "5b93e244",
   "metadata": {},
   "outputs": [],
   "source": [
    "float(\"45.12\")"
   ]
  },
  {
   "cell_type": "markdown",
   "id": "14a9c385",
   "metadata": {},
   "source": [
    "## Funciones Integradas (Built-in Functions)\n",
    "\n",
    "**Funciones:** Una función es un bloque de código con un nombre asociado, que recibe $0$ o más argumentos como entrada, sigue una serie de instrucciones y devuelve un valor o realiza una tarea.\n",
    "\n",
    "Python dispone de una serie de funciones intregradas al lenguaje( [built-in](https://docs.python.org/3/library/functions.html))\n",
    "\n",
    "Un ejemplo de estas funciones son las vistas en los anteriores puntos como las de convertir tipos de datos y la de imprimir."
   ]
  },
  {
   "cell_type": "code",
   "execution_count": null,
   "id": "4617b002",
   "metadata": {},
   "outputs": [],
   "source": [
    "# Ingresar valor por teclado\n",
    "entrada = int(input(\"Ingrese un número entero: \"))\n",
    "print(str(entrada) + \" elevado al cuadrado es: \" + str(entrada**2))"
   ]
  },
  {
   "cell_type": "code",
   "execution_count": null,
   "id": "dbe53671",
   "metadata": {},
   "outputs": [],
   "source": [
    "# Ingresar valor por teclado\n",
    "entrada = input(\"Ingrese un número entero: \")\n",
    "print(entrada*2)"
   ]
  },
  {
   "cell_type": "code",
   "execution_count": null,
   "id": "79d02013",
   "metadata": {},
   "outputs": [],
   "source": [
    "2# Valor absoluto de un numero\n",
    "print(abs(-1))"
   ]
  },
  {
   "cell_type": "markdown",
   "id": "d0adfbbb",
   "metadata": {},
   "source": [
    "### Ejercicio 1:\n",
    "\n",
    "\n",
    "Ejecute las siguientes 3 celdas e infiera lo que hace la función round incorporada con uno o dos argumentos."
   ]
  },
  {
   "cell_type": "code",
   "execution_count": null,
   "id": "06c7fbc3",
   "metadata": {},
   "outputs": [],
   "source": [
    "round( -4.78 )"
   ]
  },
  {
   "cell_type": "code",
   "execution_count": null,
   "id": "e8a323e1",
   "metadata": {},
   "outputs": [],
   "source": [
    "round( -3.141516297, 4 )"
   ]
  },
  {
   "cell_type": "code",
   "execution_count": null,
   "id": "b8f375bb",
   "metadata": {},
   "outputs": [],
   "source": [
    "round( -3.141516297, 5 )"
   ]
  },
  {
   "cell_type": "markdown",
   "id": "5bc118fb",
   "metadata": {},
   "source": [
    "### Ejercicio 2:\n",
    "\n",
    "\n",
    "Desde la pagina de las funciones integradas [built-in](https://docs.python.org/3/library/functions.html), consulte la forma de usar la función `min()` y `max()`.\n",
    "\n",
    "- Cree una lista con los valores 42, 17 y 68.\n",
    "- Usando la función `min()`, imprima el valor minimo.\n",
    "- Usando la función `max()`, imprima el valor maximo.\n",
    "- Validar si hay una función que me devuelva la suma?"
   ]
  },
  {
   "cell_type": "code",
   "execution_count": null,
   "id": "bd37cf45",
   "metadata": {},
   "outputs": [],
   "source": [
    "# Su Código\n",
    "lista = [42,17,68]"
   ]
  },
  {
   "cell_type": "code",
   "execution_count": null,
   "id": "a99d05b3",
   "metadata": {},
   "outputs": [],
   "source": [
    "min(lista)"
   ]
  },
  {
   "cell_type": "code",
   "execution_count": null,
   "id": "09edf147",
   "metadata": {},
   "outputs": [],
   "source": [
    "max(lista)"
   ]
  },
  {
   "cell_type": "code",
   "execution_count": null,
   "id": "3b4dddbc",
   "metadata": {},
   "outputs": [],
   "source": [
    "sum(lista)"
   ]
  },
  {
   "cell_type": "markdown",
   "id": "19ea6f9e",
   "metadata": {},
   "source": [
    "## Ayuda \n",
    "\n",
    "Python cuenta con `help()` y `?` que nos devuelve una descripción de la función que queremos conocer."
   ]
  },
  {
   "cell_type": "code",
   "execution_count": null,
   "id": "9a831e2a",
   "metadata": {},
   "outputs": [],
   "source": [
    "#help(range)"
   ]
  },
  {
   "cell_type": "code",
   "execution_count": null,
   "id": "c56c9e83",
   "metadata": {},
   "outputs": [],
   "source": [
    "?range"
   ]
  },
  {
   "cell_type": "markdown",
   "id": "5895eb10",
   "metadata": {},
   "source": [
    "### Ejercicio 3:\n",
    "\n",
    "Cree una variable llamada rango y asignele range(1, 100, 5), luego imprima la variable convirtiendola primero a lista, cual es el resultado?"
   ]
  },
  {
   "cell_type": "code",
   "execution_count": null,
   "id": "9c9dc32f",
   "metadata": {},
   "outputs": [],
   "source": [
    "# Su código"
   ]
  },
  {
   "cell_type": "code",
   "execution_count": null,
   "id": "12dc5259",
   "metadata": {},
   "outputs": [],
   "source": [
    "list(range(1, 100, 5))"
   ]
  }
 ],
 "metadata": {
  "language_info": {
   "name": "python"
  }
 },
 "nbformat": 4,
 "nbformat_minor": 5
}
