{
 "cells": [
  {
   "cell_type": "markdown",
   "id": "aeda186d",
   "metadata": {},
   "source": [
    "# Funciones y Control de Flujo\n",
    "\n",
    "Aprenderás a definir tus propias funciones y a usar estructuras de control como condicionales y ciclos, que permiten automatizar tareas y tomar decisiones en tus programas."
   ]
  },
  {
   "cell_type": "markdown",
   "id": "8e3e678e",
   "metadata": {
    "colab_type": "text",
    "id": "e091jzoIgnHz"
   },
   "source": [
    "## Funciones de Usuario\n",
    "\n",
    "En Python, la definición de funciones se realiza mediante la instruccion `def`.  La definición de la función finaliza con dos puntos (`:`) y el algoritmo que la compone, irá con tabulación.\n",
    "\n"
   ]
  },
  {
   "cell_type": "code",
   "execution_count": 1,
   "id": "921d59a3",
   "metadata": {
    "colab": {},
    "colab_type": "code",
    "id": "B-oMd4YVgh-3"
   },
   "outputs": [],
   "source": [
    "def miFuncion():\n",
    "  print(\"Hola Mundo\")"
   ]
  },
  {
   "cell_type": "code",
   "execution_count": 2,
   "id": "1faba503",
   "metadata": {
    "colab": {
     "base_uri": "https://localhost:8080/",
     "height": 34
    },
    "colab_type": "code",
    "executionInfo": {
     "elapsed": 839,
     "status": "ok",
     "timestamp": 1591057342979,
     "user": {
      "displayName": "Ana Lopez",
      "photoUrl": "https://lh3.googleusercontent.com/a-/AOh14Gj1dkF5QHwdzo0ygY_LrTIzktyfsXlogjzGema4=s64",
      "userId": "15130352723004509221"
     },
     "user_tz": 300
    },
    "id": "EX3W5HRJgCGY",
    "outputId": "b3351e58-10af-4755-f163-263cdeb2efcd"
   },
   "outputs": [
    {
     "name": "stdout",
     "output_type": "stream",
     "text": [
      "Hola Mundo\n"
     ]
    }
   ],
   "source": [
    "miFuncion()"
   ]
  },
  {
   "cell_type": "code",
   "execution_count": 3,
   "id": "11b4112d",
   "metadata": {
    "colab": {
     "base_uri": "https://localhost:8080/",
     "height": 51
    },
    "colab_type": "code",
    "executionInfo": {
     "elapsed": 823,
     "status": "ok",
     "timestamp": 1591057354185,
     "user": {
      "displayName": "Ana Lopez",
      "photoUrl": "https://lh3.googleusercontent.com/a-/AOh14Gj1dkF5QHwdzo0ygY_LrTIzktyfsXlogjzGema4=s64",
      "userId": "15130352723004509221"
     },
     "user_tz": 300
    },
    "id": "nWFS9JEv2_88",
    "outputId": "b0a3bcbf-098b-438a-8669-6456e94dd1ce"
   },
   "outputs": [
    {
     "name": "stdout",
     "output_type": "stream",
     "text": [
      "Hola Mundo\n",
      "None\n"
     ]
    }
   ],
   "source": [
    "valor = miFuncion()\n",
    "print(valor)"
   ]
  },
  {
   "cell_type": "markdown",
   "id": "e30f1e32",
   "metadata": {
    "colab_type": "text",
    "id": "nt47tYe6lXk4"
   },
   "source": [
    "Las funciones tambien pueden retornar un valor, este puede ser asignado a una variable.\n",
    "\n",
    "```Python\n",
    "def miFuncion():\n",
    "  return \"Hola Mundo\"\n",
    "````"
   ]
  },
  {
   "cell_type": "code",
   "execution_count": 4,
   "id": "a7d1ff26",
   "metadata": {
    "colab": {},
    "colab_type": "code",
    "id": "aBZ2fGXslUKW"
   },
   "outputs": [],
   "source": [
    "def miFuncion():\n",
    "    return \"Hola Mundo\""
   ]
  },
  {
   "cell_type": "code",
   "execution_count": 5,
   "id": "9c90d596",
   "metadata": {},
   "outputs": [],
   "source": [
    "mensaje = miFuncion()"
   ]
  },
  {
   "cell_type": "code",
   "execution_count": 6,
   "id": "4ac8b2df",
   "metadata": {},
   "outputs": [
    {
     "data": {
      "text/plain": [
       "'Hola Mundo'"
      ]
     },
     "execution_count": 6,
     "metadata": {},
     "output_type": "execute_result"
    }
   ],
   "source": [
    "mensaje"
   ]
  },
  {
   "cell_type": "code",
   "execution_count": 7,
   "id": "eef3ab75",
   "metadata": {
    "colab": {
     "base_uri": "https://localhost:8080/",
     "height": 51
    },
    "colab_type": "code",
    "executionInfo": {
     "elapsed": 749,
     "status": "ok",
     "timestamp": 1591057400085,
     "user": {
      "displayName": "Ana Lopez",
      "photoUrl": "https://lh3.googleusercontent.com/a-/AOh14Gj1dkF5QHwdzo0ygY_LrTIzktyfsXlogjzGema4=s64",
      "userId": "15130352723004509221"
     },
     "user_tz": 300
    },
    "id": "iwUwBPdmln5G",
    "outputId": "8cea7d7e-31fa-492a-f091-48957d72081b"
   },
   "outputs": [
    {
     "name": "stdout",
     "output_type": "stream",
     "text": [
      "Hola Mundo\n",
      "Hola Mundo\n"
     ]
    }
   ],
   "source": [
    "mensaje = miFuncion()\n",
    "print(mensaje)\n",
    "print(miFuncion())"
   ]
  },
  {
   "cell_type": "markdown",
   "id": "17e2495b",
   "metadata": {
    "colab_type": "text",
    "id": "UnADeiPAlvbJ"
   },
   "source": [
    "Las funciones tambien pueden recibir parametros de entrada.\n",
    "\n",
    "```Python\n",
    "def miFuncion(nombre, apellido):\n",
    "  return nombre + ' ' + apellido\n",
    "````"
   ]
  },
  {
   "cell_type": "code",
   "execution_count": 8,
   "id": "ee5490b8",
   "metadata": {
    "colab": {},
    "colab_type": "code",
    "id": "Jkk_pRIGlr5R"
   },
   "outputs": [],
   "source": [
    "def miFuncion(nombre, apellido):\n",
    "    return \"Mi nombre es {nombre} {apellido}\".format(nombre = nombre, apellido = apellido)"
   ]
  },
  {
   "cell_type": "code",
   "execution_count": 9,
   "id": "b308236b",
   "metadata": {
    "colab": {},
    "colab_type": "code",
    "id": "RHNUpJVPl-Ab"
   },
   "outputs": [
    {
     "name": "stdout",
     "output_type": "stream",
     "text": [
      "Mi nombre es Juan Perez\n"
     ]
    }
   ],
   "source": [
    "mensaje = miFuncion(\"Juan\",\"Perez\")\n",
    "print(mensaje)"
   ]
  },
  {
   "cell_type": "code",
   "execution_count": 10,
   "id": "dee21195",
   "metadata": {},
   "outputs": [
    {
     "data": {
      "text/plain": [
       "'Mi nombre es Wilmer Pineda'"
      ]
     },
     "execution_count": 10,
     "metadata": {},
     "output_type": "execute_result"
    }
   ],
   "source": [
    "miFuncion(\"Wilmer\", \"Pineda\")"
   ]
  },
  {
   "cell_type": "markdown",
   "id": "29428f88",
   "metadata": {
    "colab_type": "text",
    "id": "som2cF3NoNNi"
   },
   "source": [
    "Las funciones pueden tener parametros de entrada con valores por defecto.\n",
    "\n",
    "```Python\n",
    "def miFuncion(nombre, apellido, mensaje = 'Hola'):\n",
    "  return mensaje + ' ' + nombre + ' ' + apellido\n",
    "````"
   ]
  },
  {
   "cell_type": "code",
   "execution_count": 11,
   "id": "a7784a7e",
   "metadata": {
    "colab": {},
    "colab_type": "code",
    "id": "ORPtW5HcoerO"
   },
   "outputs": [],
   "source": [
    "def miFuncion(nombre, apellido, mensaje = 'Hola'):\n",
    "  return mensaje + ' ' + nombre + ' ' + apellido"
   ]
  },
  {
   "cell_type": "code",
   "execution_count": 12,
   "id": "aede2657",
   "metadata": {
    "colab": {
     "base_uri": "https://localhost:8080/",
     "height": 34
    },
    "colab_type": "code",
    "executionInfo": {
     "elapsed": 692,
     "status": "ok",
     "timestamp": 1591057459353,
     "user": {
      "displayName": "Ana Lopez",
      "photoUrl": "https://lh3.googleusercontent.com/a-/AOh14Gj1dkF5QHwdzo0ygY_LrTIzktyfsXlogjzGema4=s64",
      "userId": "15130352723004509221"
     },
     "user_tz": 300
    },
    "id": "zDWgEwOOoh7_",
    "outputId": "bebbd3e6-6b24-41e4-8382-107bc0896b6d"
   },
   "outputs": [
    {
     "name": "stdout",
     "output_type": "stream",
     "text": [
      "Hola Juan Perez\n"
     ]
    }
   ],
   "source": [
    "mensaje = miFuncion(\"Juan\",\"Perez\")\n",
    "print(mensaje)"
   ]
  },
  {
   "cell_type": "code",
   "execution_count": 13,
   "id": "db7b41fa",
   "metadata": {
    "colab": {
     "base_uri": "https://localhost:8080/",
     "height": 34
    },
    "colab_type": "code",
    "executionInfo": {
     "elapsed": 703,
     "status": "ok",
     "timestamp": 1591057462865,
     "user": {
      "displayName": "Ana Lopez",
      "photoUrl": "https://lh3.googleusercontent.com/a-/AOh14Gj1dkF5QHwdzo0ygY_LrTIzktyfsXlogjzGema4=s64",
      "userId": "15130352723004509221"
     },
     "user_tz": 300
    },
    "id": "fSS2k2ZQojfM",
    "outputId": "e3e0bbba-42b3-4f3b-9bf6-9af66bc13874"
   },
   "outputs": [
    {
     "name": "stdout",
     "output_type": "stream",
     "text": [
      "Chao Juan Perez\n"
     ]
    }
   ],
   "source": [
    "mensaje = miFuncion(\"Juan\",\"Perez\",\"Chao\")\n",
    "print(mensaje)"
   ]
  },
  {
   "cell_type": "markdown",
   "id": "5be727fc",
   "metadata": {
    "colab_type": "text",
    "id": "hFTNODUAmD-v"
   },
   "source": [
    "### Ejercicio 4\n",
    "\n",
    "Escriba una función que calcule un valor según una formula dada:\n",
    "\n",
    "$Q = sqrt( (2 * C)/H )$\n",
    "\n",
    "$C$ Es un numero entero\n",
    "\n",
    "$H$ Es un numero entero\n",
    "\n",
    "La función debe de retornar el valor de $Q$.\n",
    "\n",
    "**Tip:** En Python se pueden importar librerias o paquetes usando `import`, para este ejercicio se importarña la libreria de matematicas `math`. Para usar el metodo `sqrt` se realiza el llamado de la siguiente manera `math.sqrt(numero)`"
   ]
  },
  {
   "cell_type": "code",
   "execution_count": 14,
   "id": "e464c38b",
   "metadata": {
    "colab": {},
    "colab_type": "code",
    "id": "IPmk2xcim1s2"
   },
   "outputs": [],
   "source": [
    "# Su Codigo\n",
    "\n",
    "import numpy as np\n",
    "\n",
    "def ejercicio_4(c,h):\n",
    "    return np.sqrt(2*c/h)"
   ]
  },
  {
   "cell_type": "code",
   "execution_count": 15,
   "id": "e769859b",
   "metadata": {},
   "outputs": [],
   "source": [
    "def ejercicio_4_v2(c,h):\n",
    "    return (2*c/h)**(0.5)"
   ]
  },
  {
   "cell_type": "code",
   "execution_count": 16,
   "id": "81b11af5",
   "metadata": {},
   "outputs": [
    {
     "name": "stdout",
     "output_type": "stream",
     "text": [
      "1.1547005383792515\n",
      "1.1547005383792515\n"
     ]
    }
   ],
   "source": [
    "print(ejercicio_4(2,3))\n",
    "print(ejercicio_4_v2(2,3))"
   ]
  },
  {
   "cell_type": "markdown",
   "id": "6287a04d",
   "metadata": {
    "colab_type": "text",
    "id": "MEZrtKFBo9D3"
   },
   "source": [
    "### Ejercicio 5\n",
    "\n",
    "Escriba una función que calcule el area de un triangulo:\n",
    "\n",
    "$Area = (Base*Altura)/2 $\n",
    "\n",
    "$Base$ Es un numero entero o real.\n",
    "$Altura$ Es un numero entero o real.\n",
    "\n",
    "La función debe de retornar el valor del $Area$."
   ]
  },
  {
   "cell_type": "code",
   "execution_count": 17,
   "id": "fcee1c5c",
   "metadata": {
    "colab": {},
    "colab_type": "code",
    "id": "zYVK465Oo8R2"
   },
   "outputs": [],
   "source": [
    "# Su Codigo"
   ]
  },
  {
   "cell_type": "markdown",
   "id": "10dfc86b",
   "metadata": {
    "colab_type": "text",
    "id": "6d7bbtJhp4KL"
   },
   "source": [
    "### Ejercicio 6\n",
    "\n",
    "Escriba una función que reciba como parametro un número entero y una lista, debe de adicionar a la lista el numero elevado al cubo y devolver la lista con el nuevo elemento."
   ]
  },
  {
   "cell_type": "code",
   "execution_count": 18,
   "id": "f7666550",
   "metadata": {
    "colab": {},
    "colab_type": "code",
    "id": "hal1dT42p1tC"
   },
   "outputs": [],
   "source": [
    "# Su Codigo"
   ]
  },
  {
   "cell_type": "markdown",
   "id": "5d67253a",
   "metadata": {
    "colab_type": "text",
    "id": "_BJi1dmXHe9e"
   },
   "source": [
    "## Conjuntos en Python\n",
    "\n",
    "Python tiene un tipo de dato `set` el cual nos permite trabajar con conjuntos y realizar operaciones de conjuntos con estas variables.  Se define entre llaves (`{}`) y se separan los elementos con comas. \n",
    "\n",
    "```python\n",
    "conjunto = {1,2,3}\n",
    "````"
   ]
  },
  {
   "cell_type": "code",
   "execution_count": 19,
   "id": "f857d321",
   "metadata": {
    "colab": {},
    "colab_type": "code",
    "id": "vH2b2v91HeGu"
   },
   "outputs": [],
   "source": [
    "# Definiendo conjuntos\n",
    "c1 = {1, 2, 3, 4, 5, 6}\n",
    "c2 = {2, 4, 6, 8, 10}\n",
    "c3 = {1, 2, 3}\n",
    "c4 = {4, 5, 6}"
   ]
  },
  {
   "cell_type": "code",
   "execution_count": 20,
   "id": "671eb40a",
   "metadata": {
    "colab": {
     "base_uri": "https://localhost:8080/",
     "height": 51
    },
    "colab_type": "code",
    "executionInfo": {
     "elapsed": 914,
     "status": "ok",
     "timestamp": 1591057500932,
     "user": {
      "displayName": "Ana Lopez",
      "photoUrl": "https://lh3.googleusercontent.com/a-/AOh14Gj1dkF5QHwdzo0ygY_LrTIzktyfsXlogjzGema4=s64",
      "userId": "15130352723004509221"
     },
     "user_tz": 300
    },
    "id": "1ZN6ZH3zIGFu",
    "outputId": "8be07b31-6037-43c4-c99d-0b427e1a2dd1"
   },
   "outputs": [
    {
     "name": "stdout",
     "output_type": "stream",
     "text": [
      "{1, 2, 3, 4, 5, 6, 8, 10}\n",
      "{1, 2, 3, 4, 5, 6, 8, 10}\n"
     ]
    }
   ],
   "source": [
    "# Union de conjuntos\n",
    "print(c1|c2)\n",
    "print(c1|c2|c3)"
   ]
  },
  {
   "cell_type": "code",
   "execution_count": 21,
   "id": "878f5c0b",
   "metadata": {
    "colab": {
     "base_uri": "https://localhost:8080/",
     "height": 34
    },
    "colab_type": "code",
    "executionInfo": {
     "elapsed": 719,
     "status": "ok",
     "timestamp": 1591057504263,
     "user": {
      "displayName": "Ana Lopez",
      "photoUrl": "https://lh3.googleusercontent.com/a-/AOh14Gj1dkF5QHwdzo0ygY_LrTIzktyfsXlogjzGema4=s64",
      "userId": "15130352723004509221"
     },
     "user_tz": 300
    },
    "id": "06giFyw4IhSG",
    "outputId": "8e509237-5ad8-4e0e-b8ec-5ccf2675668c"
   },
   "outputs": [
    {
     "name": "stdout",
     "output_type": "stream",
     "text": [
      "{1, 2, 3, 4, 5, 6, 8, 10}\n"
     ]
    }
   ],
   "source": [
    "# Tambien puede hacerse la union con el metodo\n",
    "print(c1.union(c2))"
   ]
  },
  {
   "cell_type": "code",
   "execution_count": 22,
   "id": "36077992",
   "metadata": {
    "colab": {
     "base_uri": "https://localhost:8080/",
     "height": 51
    },
    "colab_type": "code",
    "executionInfo": {
     "elapsed": 771,
     "status": "ok",
     "timestamp": 1591057508124,
     "user": {
      "displayName": "Ana Lopez",
      "photoUrl": "https://lh3.googleusercontent.com/a-/AOh14Gj1dkF5QHwdzo0ygY_LrTIzktyfsXlogjzGema4=s64",
      "userId": "15130352723004509221"
     },
     "user_tz": 300
    },
    "id": "PU7yfesqIKnD",
    "outputId": "8cac85ac-ce15-4c5a-e200-3e9001a781b8"
   },
   "outputs": [
    {
     "name": "stdout",
     "output_type": "stream",
     "text": [
      "{2, 4, 6}\n",
      "set()\n"
     ]
    }
   ],
   "source": [
    "# Intersección de conjuntos\n",
    "print(c1&c2)\n",
    "print(c1 & c2 & c3 & c4)"
   ]
  },
  {
   "cell_type": "code",
   "execution_count": 23,
   "id": "cfc3ff32",
   "metadata": {
    "colab": {
     "base_uri": "https://localhost:8080/",
     "height": 34
    },
    "colab_type": "code",
    "executionInfo": {
     "elapsed": 684,
     "status": "ok",
     "timestamp": 1591057513736,
     "user": {
      "displayName": "Ana Lopez",
      "photoUrl": "https://lh3.googleusercontent.com/a-/AOh14Gj1dkF5QHwdzo0ygY_LrTIzktyfsXlogjzGema4=s64",
      "userId": "15130352723004509221"
     },
     "user_tz": 300
    },
    "id": "lBva9uaFIm7z",
    "outputId": "87d313b3-d43c-4402-bdde-01c00093d3aa"
   },
   "outputs": [
    {
     "name": "stdout",
     "output_type": "stream",
     "text": [
      "{2}\n"
     ]
    }
   ],
   "source": [
    "# Tambien puede hacerse la intersección con el metodo\n",
    "print(c1.intersection(c2,c3))"
   ]
  },
  {
   "cell_type": "code",
   "execution_count": 24,
   "id": "8e6697e0",
   "metadata": {
    "colab": {
     "base_uri": "https://localhost:8080/",
     "height": 34
    },
    "colab_type": "code",
    "executionInfo": {
     "elapsed": 563,
     "status": "ok",
     "timestamp": 1591057517106,
     "user": {
      "displayName": "Ana Lopez",
      "photoUrl": "https://lh3.googleusercontent.com/a-/AOh14Gj1dkF5QHwdzo0ygY_LrTIzktyfsXlogjzGema4=s64",
      "userId": "15130352723004509221"
     },
     "user_tz": 300
    },
    "id": "yflsGQ9hIW9t",
    "outputId": "48045caa-1d79-45e2-a3f8-b6b5ec0a99ec"
   },
   "outputs": [
    {
     "name": "stdout",
     "output_type": "stream",
     "text": [
      "{1, 3, 5}\n"
     ]
    }
   ],
   "source": [
    "# Diferencia de conjuntos\n",
    "print(c1-c2)"
   ]
  },
  {
   "cell_type": "code",
   "execution_count": 25,
   "id": "69f37a20",
   "metadata": {
    "colab": {
     "base_uri": "https://localhost:8080/",
     "height": 34
    },
    "colab_type": "code",
    "executionInfo": {
     "elapsed": 698,
     "status": "ok",
     "timestamp": 1591057519293,
     "user": {
      "displayName": "Ana Lopez",
      "photoUrl": "https://lh3.googleusercontent.com/a-/AOh14Gj1dkF5QHwdzo0ygY_LrTIzktyfsXlogjzGema4=s64",
      "userId": "15130352723004509221"
     },
     "user_tz": 300
    },
    "id": "aEMq5n2MJAns",
    "outputId": "a48695f5-6042-4c25-c861-d563543213a6"
   },
   "outputs": [
    {
     "name": "stdout",
     "output_type": "stream",
     "text": [
      "{1, 3, 5}\n"
     ]
    }
   ],
   "source": [
    "# Diferencia de conjuntos con el metodo\n",
    "print(c1.difference(c2))"
   ]
  },
  {
   "cell_type": "code",
   "execution_count": 26,
   "id": "29f09b82",
   "metadata": {
    "colab": {
     "base_uri": "https://localhost:8080/",
     "height": 34
    },
    "colab_type": "code",
    "executionInfo": {
     "elapsed": 667,
     "status": "ok",
     "timestamp": 1591057523864,
     "user": {
      "displayName": "Ana Lopez",
      "photoUrl": "https://lh3.googleusercontent.com/a-/AOh14Gj1dkF5QHwdzo0ygY_LrTIzktyfsXlogjzGema4=s64",
      "userId": "15130352723004509221"
     },
     "user_tz": 300
    },
    "id": "CF1rCOAXIbpC",
    "outputId": "bc1dbfda-7358-4cf2-956f-162bd6375496"
   },
   "outputs": [
    {
     "name": "stdout",
     "output_type": "stream",
     "text": [
      "{1, 3, 5, 8, 10}\n"
     ]
    }
   ],
   "source": [
    "# Union exclusiva\n",
    "print(c1^c2)"
   ]
  },
  {
   "cell_type": "code",
   "execution_count": 27,
   "id": "1b86871b",
   "metadata": {
    "colab": {
     "base_uri": "https://localhost:8080/",
     "height": 34
    },
    "colab_type": "code",
    "executionInfo": {
     "elapsed": 733,
     "status": "ok",
     "timestamp": 1591057525785,
     "user": {
      "displayName": "Ana Lopez",
      "photoUrl": "https://lh3.googleusercontent.com/a-/AOh14Gj1dkF5QHwdzo0ygY_LrTIzktyfsXlogjzGema4=s64",
      "userId": "15130352723004509221"
     },
     "user_tz": 300
    },
    "id": "Z82kOAwuJHrr",
    "outputId": "3a463abd-51a9-4717-dbfb-c35ee612d111"
   },
   "outputs": [
    {
     "name": "stdout",
     "output_type": "stream",
     "text": [
      "{1, 3, 5, 8, 10}\n"
     ]
    }
   ],
   "source": [
    "# Union exclusiva con el metodo\n",
    "print(c1.symmetric_difference(c2))"
   ]
  },
  {
   "cell_type": "markdown",
   "id": "d3eb8e48",
   "metadata": {
    "colab_type": "text",
    "id": "pqHkQ1qn7Dwk"
   },
   "source": [
    "## Estructuras de control\n",
    "\n",
    "### Ciclos FOR\n",
    "\n",
    "Los ciclos For en Python son simples. La estructura basica esta dada por **`for <var-name> in <iterable> :`**\n",
    "**Importante** finalizando el for siempre debe de ir **:**, es obligatorio y para los constructores del flujo de control son obligación. \n",
    "\n",
    "El bloque que sera iterado esta determinado por la tabulación de las lineas siguientes del for.   \n",
    "   \n",
    "La linea en blanco despues de las dos sentencias no es obligatoria, pero es considerada buena practica. Las lineas luego del ciclo for no llevan tabulación, por lo tanto ya estan fuera del ciclo."
   ]
  },
  {
   "cell_type": "code",
   "execution_count": 28,
   "id": "616a159d",
   "metadata": {
    "colab": {},
    "colab_type": "code",
    "id": "lSixF4Ga7C3R"
   },
   "outputs": [],
   "source": [
    "string_list = [ \"Juan\", \"is\", \"1.70\", \"metres\", \"high\"]"
   ]
  },
  {
   "cell_type": "code",
   "execution_count": 29,
   "id": "13011817",
   "metadata": {
    "colab": {},
    "colab_type": "code",
    "id": "A28Sqg6Y7Joj"
   },
   "outputs": [
    {
     "name": "stdout",
     "output_type": "stream",
     "text": [
      "Juan\n",
      "4 characters\n",
      "\n",
      "is\n",
      "2 characters\n",
      "\n",
      "1.70\n",
      "4 characters\n",
      "\n",
      "metres\n",
      "6 characters\n",
      "\n",
      "high\n",
      "4 characters\n",
      "\n",
      "The loop is done\n"
     ]
    }
   ],
   "source": [
    "for elem in string_list : \n",
    "    print( elem )\n",
    "    print( len(elem), 'characters\\n' )\n",
    "    \n",
    "print( \"The loop is done\")"
   ]
  },
  {
   "cell_type": "code",
   "execution_count": 30,
   "id": "65b33438",
   "metadata": {
    "colab": {},
    "colab_type": "code",
    "id": "cmT-cI_yBqWG"
   },
   "outputs": [
    {
     "name": "stdout",
     "output_type": "stream",
     "text": [
      "0\n",
      "Juan\n",
      "4\n",
      "1\n",
      "is\n",
      "2\n",
      "2\n",
      "1.70\n",
      "4\n",
      "3\n",
      "metres\n",
      "6\n",
      "4\n",
      "high\n",
      "4\n"
     ]
    }
   ],
   "source": [
    "for idx in range(len(string_list)):\n",
    "  print(idx)\n",
    "  print(string_list[idx])\n",
    "  print(len(string_list[idx]))"
   ]
  },
  {
   "cell_type": "markdown",
   "id": "2ce4afe3",
   "metadata": {
    "colab_type": "text",
    "id": "GsZQs3v57OAR"
   },
   "source": [
    "#### Otra forma de iterar un ciclo for : range ( a, b, s )\n",
    "\n",
    "Una forma común de iterar un ciclo for es desde 0 hasta n-1.  Esto se puede implementar con una funcion range."
   ]
  },
  {
   "cell_type": "code",
   "execution_count": 31,
   "id": "f1585de3",
   "metadata": {
    "colab": {},
    "colab_type": "code",
    "id": "36Le1FsL7Qfk"
   },
   "outputs": [
    {
     "name": "stdout",
     "output_type": "stream",
     "text": [
      "i = 0\n",
      "i = 1\n",
      "i = 2\n",
      "i = 3\n",
      "i = 4\n",
      "i = 5\n",
      "i = 6\n",
      "i = 7\n",
      "i = 8\n",
      "i = 9\n"
     ]
    }
   ],
   "source": [
    "n = 10 # desired number of iterations\n",
    "\n",
    "for  i in range(0,10) : \n",
    "    print( f\"i = {i}\")"
   ]
  },
  {
   "cell_type": "code",
   "execution_count": 32,
   "id": "db256fad",
   "metadata": {
    "colab": {},
    "colab_type": "code",
    "id": "HW1jcO9a7SFM"
   },
   "outputs": [
    {
     "name": "stdout",
     "output_type": "stream",
     "text": [
      "i = 3\n",
      "i = 4\n",
      "i = 5\n",
      "i = 6\n",
      "i = 7\n",
      "i = 8\n",
      "i = 9\n"
     ]
    }
   ],
   "source": [
    "for  i in range(3,10) : \n",
    "    print( f\"i = {i}\")"
   ]
  },
  {
   "cell_type": "code",
   "execution_count": 33,
   "id": "19ea3dd3",
   "metadata": {
    "colab": {},
    "colab_type": "code",
    "id": "MDOf7ZMA7VvR"
   },
   "outputs": [
    {
     "name": "stdout",
     "output_type": "stream",
     "text": [
      "i = 20\n",
      "i = 15\n",
      "i = 10\n",
      "i = 5\n"
     ]
    }
   ],
   "source": [
    "for  i in range(20, 3, -5) : \n",
    "    print( f\"i = {i}\")"
   ]
  },
  {
   "cell_type": "markdown",
   "id": "b30b1af8",
   "metadata": {
    "colab_type": "text",
    "id": "TVYDGddg7XHh"
   },
   "source": [
    "### Condicional IF - ELIF - ELSE\n",
    "\n",
    "**Nota:**\n",
    "\n",
    "* No hay paréntesis alrededor de las condiciones booleanas. \n",
    "* Puede haber tantas ramas elif como desee cada una con una condición explícita.\n",
    "* ¡Sólo puede haber una más al final, sin condición, por supuesto!"
   ]
  },
  {
   "cell_type": "code",
   "execution_count": 34,
   "id": "d09e5575",
   "metadata": {
    "colab": {},
    "colab_type": "code",
    "id": "e5IINCKi7bq0"
   },
   "outputs": [
    {
     "name": "stdout",
     "output_type": "stream",
     "text": [
      "z is between -10 and 10 but not zero\n"
     ]
    }
   ],
   "source": [
    "z = -6\n",
    "if  z > 10 :   \n",
    "    print( \"A: This is big!!!\")\n",
    "    print( \"B: That's what she said!\")\n",
    "elif z == 0 : \n",
    "    print( \"z is Zero!!!\")\n",
    "elif z > -10 : \n",
    "    print( \"z is between -10 and 10 but not zero\")\n",
    "else : \n",
    "    print( \"z is probably negative. Who knows... computers are weird...\")"
   ]
  },
  {
   "cell_type": "code",
   "execution_count": 35,
   "id": "731f30a4",
   "metadata": {
    "colab": {},
    "colab_type": "code",
    "id": "jgiwzvtaAoNg"
   },
   "outputs": [
    {
     "name": "stdout",
     "output_type": "stream",
     "text": [
      "no\n"
     ]
    }
   ],
   "source": [
    "z = 11\n",
    "if  z > 10 and z == 0 :\n",
    "  print(\"ok\")\n",
    "else:\n",
    "  print(\"no\")   "
   ]
  }
 ],
 "metadata": {
  "colab": {
   "collapsed_sections": [],
   "name": "Fundamentos de Python Parte 1.ipynb",
   "provenance": [
    {
     "file_id": "1JccNwcj5e4lD5IpLCyoXvYLfFvZGW0dx",
     "timestamp": 1591047389141
    }
   ]
  },
  "kernelspec": {
   "display_name": "Python 3",
   "language": "python",
   "name": "python3"
  },
  "language_info": {
   "codemirror_mode": {
    "name": "ipython",
    "version": 3
   },
   "file_extension": ".py",
   "mimetype": "text/x-python",
   "name": "python",
   "nbconvert_exporter": "python",
   "pygments_lexer": "ipython3",
   "version": "3.11.9"
  }
 },
 "nbformat": 4,
 "nbformat_minor": 5
}