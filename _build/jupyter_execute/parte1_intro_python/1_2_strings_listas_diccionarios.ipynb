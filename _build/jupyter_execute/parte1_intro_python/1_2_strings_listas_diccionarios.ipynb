{
 "cells": [
  {
   "cell_type": "markdown",
   "id": "9e4e59c8",
   "metadata": {},
   "source": [
    "# Manejo de Estructuras de Datos\n",
    "\n",
    "Aquí exploraremos strings, listas, diccionarios, tuplas y conjuntos. Estas estructuras son esenciales para trabajar con datos en Python."
   ]
  },
  {
   "cell_type": "markdown",
   "id": "bf42968e",
   "metadata": {
    "colab_type": "text",
    "id": "Q8gb4Oeu64PR"
   },
   "source": [
    "## Manejo de Strings\n",
    "\n",
    "**IMPORTANTE:** Strings pueden ser definidos con doble comilla (\"...\") or comilla simple ('...'), las dos sintaxis hacen exactamente lo mismo!"
   ]
  },
  {
   "cell_type": "code",
   "execution_count": 1,
   "id": "dbd79435",
   "metadata": {
    "colab": {},
    "colab_type": "code",
    "id": "jSLgU0z66-zg"
   },
   "outputs": [
    {
     "data": {
      "text/plain": [
       "True"
      ]
     },
     "execution_count": 1,
     "metadata": {},
     "output_type": "execute_result"
    }
   ],
   "source": [
    "'Juan' == \"Juan\""
   ]
  },
  {
   "cell_type": "code",
   "execution_count": 2,
   "id": "a9b44347",
   "metadata": {
    "colab": {},
    "colab_type": "code",
    "id": "GKPmUo9t7BGL"
   },
   "outputs": [
    {
     "data": {
      "text/plain": [
       "True"
      ]
     },
     "execution_count": 2,
     "metadata": {},
     "output_type": "execute_result"
    }
   ],
   "source": [
    "'Juan said: \"Yeah\"' == \"Juan said: \\\"Yeah\\\"\""
   ]
  },
  {
   "cell_type": "code",
   "execution_count": 3,
   "id": "3185572f",
   "metadata": {
    "colab": {},
    "colab_type": "code",
    "id": "JBC5jESk7Cg5"
   },
   "outputs": [
    {
     "data": {
      "text/plain": [
       "True"
      ]
     },
     "execution_count": 3,
     "metadata": {},
     "output_type": "execute_result"
    }
   ],
   "source": [
    "\"Juan's sisters\" == 'Juan\\'s sisters' "
   ]
  },
  {
   "cell_type": "code",
   "execution_count": 4,
   "id": "1b83eb5a",
   "metadata": {
    "colab": {
     "base_uri": "https://localhost:8080/",
     "height": 34
    },
    "colab_type": "code",
    "executionInfo": {
     "elapsed": 841,
     "status": "ok",
     "timestamp": 1591056296396,
     "user": {
      "displayName": "Ana Lopez",
      "photoUrl": "https://lh3.googleusercontent.com/a-/AOh14Gj1dkF5QHwdzo0ygY_LrTIzktyfsXlogjzGema4=s64",
      "userId": "15130352723004509221"
     },
     "user_tz": 300
    },
    "id": "AecDLAtz7EaW",
    "outputId": "cbe36f6e-cdbc-4876-c66f-e6dc2e3040fa"
   },
   "outputs": [
    {
     "data": {
      "text/plain": [
       "'I feel 😄'"
      ]
     },
     "execution_count": 4,
     "metadata": {},
     "output_type": "execute_result"
    }
   ],
   "source": [
    "'I feel \\U0001F604'"
   ]
  },
  {
   "cell_type": "markdown",
   "id": "dbcf9b77",
   "metadata": {
    "colab_type": "text",
    "id": "q2HaBEgu7Q09"
   },
   "source": [
    "### Interpolación de Cadenas\n",
    "\n",
    "El camino más facil para insertar dinamicamente variable en cadenas es a través de la interpolación de cadenas usando:\n",
    "\n",
    "la sintaxis f\"....{var1}... {var2}\"."
   ]
  },
  {
   "cell_type": "code",
   "execution_count": 5,
   "id": "7ebb035b",
   "metadata": {
    "colab": {
     "base_uri": "https://localhost:8080/",
     "height": 34
    },
    "colab_type": "code",
    "executionInfo": {
     "elapsed": 783,
     "status": "ok",
     "timestamp": 1591056331337,
     "user": {
      "displayName": "Ana Lopez",
      "photoUrl": "https://lh3.googleusercontent.com/a-/AOh14Gj1dkF5QHwdzo0ygY_LrTIzktyfsXlogjzGema4=s64",
      "userId": "15130352723004509221"
     },
     "user_tz": 300
    },
    "id": "XvtpEddD7N34",
    "outputId": "d892b44b-e06f-4088-fc19-29ad250ac6d8"
   },
   "outputs": [
    {
     "data": {
      "text/plain": [
       "'Juan is 1.7 meters tall and has 2 brothers and sisters'"
      ]
     },
     "execution_count": 5,
     "metadata": {},
     "output_type": "execute_result"
    }
   ],
   "source": [
    "juans_height = 1.70\n",
    "num_siblings = 2 \n",
    "\n",
    "f\"Juan is {juans_height} meters tall and has {num_siblings} brothers and sisters\""
   ]
  },
  {
   "cell_type": "markdown",
   "id": "3d563bab",
   "metadata": {
    "colab_type": "text",
    "id": "aR8X5EiE7coN"
   },
   "source": [
    "También se puede especificar la precisión con la sintaxis \"...{var:.#f}...\", donde # es el número de digitos decimales."
   ]
  },
  {
   "cell_type": "code",
   "execution_count": 6,
   "id": "06fa468b",
   "metadata": {
    "colab": {
     "base_uri": "https://localhost:8080/",
     "height": 34
    },
    "colab_type": "code",
    "executionInfo": {
     "elapsed": 696,
     "status": "ok",
     "timestamp": 1591056344506,
     "user": {
      "displayName": "Ana Lopez",
      "photoUrl": "https://lh3.googleusercontent.com/a-/AOh14Gj1dkF5QHwdzo0ygY_LrTIzktyfsXlogjzGema4=s64",
      "userId": "15130352723004509221"
     },
     "user_tz": 300
    },
    "id": "MYGFxfZw7GIg",
    "outputId": "661b22c7-dfd5-46a5-f198-8a3c07f13e04"
   },
   "outputs": [
    {
     "data": {
      "text/plain": [
       "'Juan is 1.70 meters tall'"
      ]
     },
     "execution_count": 6,
     "metadata": {},
     "output_type": "execute_result"
    }
   ],
   "source": [
    "f\"Juan is {juans_height:.2f} meters tall\""
   ]
  },
  {
   "cell_type": "markdown",
   "id": "1a951a46",
   "metadata": {
    "colab_type": "text",
    "id": "5eaX-VOl8gNH"
   },
   "source": [
    "Expresiones Full incluyendo llamado a funciones:"
   ]
  },
  {
   "cell_type": "code",
   "execution_count": 7,
   "id": "c42a1891",
   "metadata": {
    "colab": {
     "base_uri": "https://localhost:8080/",
     "height": 34
    },
    "colab_type": "code",
    "executionInfo": {
     "elapsed": 725,
     "status": "ok",
     "timestamp": 1591056362941,
     "user": {
      "displayName": "Ana Lopez",
      "photoUrl": "https://lh3.googleusercontent.com/a-/AOh14Gj1dkF5QHwdzo0ygY_LrTIzktyfsXlogjzGema4=s64",
      "userId": "15130352723004509221"
     },
     "user_tz": 300
    },
    "id": "kd7aEh247fiA",
    "outputId": "63b08bc5-9b1a-422d-f147-2466f2432a47"
   },
   "outputs": [
    {
     "data": {
      "text/plain": [
       "'Juan is 10 cm taller than Luisa'"
      ]
     },
     "execution_count": 7,
     "metadata": {},
     "output_type": "execute_result"
    }
   ],
   "source": [
    "luisas_height = 1.60\n",
    "f\"Juan is { round( (juans_height - luisas_height)* 100 )  } cm taller than Luisa\""
   ]
  },
  {
   "cell_type": "markdown",
   "id": "12bd69bd",
   "metadata": {
    "colab_type": "text",
    "id": "9k8nP6KfUqP-"
   },
   "source": [
    "Una sintaxis ligeramente más nueva y que mejor utiliza el método de formato en cadenas:"
   ]
  },
  {
   "cell_type": "code",
   "execution_count": 8,
   "id": "f00c763b",
   "metadata": {
    "colab": {},
    "colab_type": "code",
    "id": "LQZPEbML8jE1"
   },
   "outputs": [
    {
     "data": {
      "text/plain": [
       "'Juan is 1.8 meters tall and has 3 brothers and sisters. Juan as a brother and his name is jhon.'"
      ]
     },
     "execution_count": 8,
     "metadata": {},
     "output_type": "execute_result"
    }
   ],
   "source": [
    "\"Juan is {jh} meters tall and has {ns} brothers and sisters. Juan as a brother and his name is jhon.\".format( jh= 1.80, ns=3  )"
   ]
  },
  {
   "cell_type": "markdown",
   "id": "177ba6a2",
   "metadata": {
    "colab_type": "text",
    "id": "1apCM1CGUwW1"
   },
   "source": [
    "La siguiente es también una solución común simple, aunque no la más eficiente."
   ]
  },
  {
   "cell_type": "code",
   "execution_count": 9,
   "id": "76bbcde0",
   "metadata": {
    "colab": {},
    "colab_type": "code",
    "id": "TBunBtXjUsoR"
   },
   "outputs": [
    {
     "data": {
      "text/plain": [
       "'Juan is 1.7 meters tall and has 2 brothers and sisters'"
      ]
     },
     "execution_count": 9,
     "metadata": {},
     "output_type": "execute_result"
    }
   ],
   "source": [
    "\"Juan is \" + str(juans_height) + \" meters tall and has \" + str(num_siblings) + \" brothers and sisters\" "
   ]
  },
  {
   "cell_type": "markdown",
   "id": "7bfaae82",
   "metadata": {
    "colab_type": "text",
    "id": "moIWuEuSVDeY"
   },
   "source": [
    "Como en C/Java, etc., una cadena puede también contener códigos especiales como salto de linea ('\\n') y tabulación ('\\t')."
   ]
  },
  {
   "cell_type": "code",
   "execution_count": 10,
   "id": "2da7dad5",
   "metadata": {
    "colab": {
     "base_uri": "https://localhost:8080/",
     "height": 68
    },
    "colab_type": "code",
    "executionInfo": {
     "elapsed": 885,
     "status": "ok",
     "timestamp": 1591056431390,
     "user": {
      "displayName": "Ana Lopez",
      "photoUrl": "https://lh3.googleusercontent.com/a-/AOh14Gj1dkF5QHwdzo0ygY_LrTIzktyfsXlogjzGema4=s64",
      "userId": "15130352723004509221"
     },
     "user_tz": 300
    },
    "id": "muMtTOvCUyTA",
    "outputId": "f614deed-e362-49b5-cf9e-3245abc77378"
   },
   "outputs": [
    {
     "name": "stdout",
     "output_type": "stream",
     "text": [
      "Juan is 1.7 meters tall\n",
      "\tand has 2 brothers\n",
      "and sisters\n"
     ]
    }
   ],
   "source": [
    "a_str = f\"Juan is {juans_height} meters tall\\n\\tand has {num_siblings} brothers\\nand sisters\"\n",
    "print( a_str )"
   ]
  },
  {
   "cell_type": "markdown",
   "id": "df2f4a8f",
   "metadata": {
    "colab_type": "text",
    "id": "ogKJg_EnV6Rz"
   },
   "source": [
    "### Indexación de Cadenas\n",
    "\n",
    "Las cadenas de Python son cadenas de caracteres, y cada carácter reside en un índice a partir de $0$ (para el primer carácter) y terminando en longitud de cadena $-1$ (para el último carácter).\n",
    "\n",
    "|G|r|u|p|o|\n",
    "|-|-|-|-|-|\n",
    "|0|1|2|3|4|\n",
    "|-|-|-|-|-|\n",
    "|-5|-4|-3|-2|-1|\n"
   ]
  },
  {
   "cell_type": "code",
   "execution_count": 11,
   "id": "088755ab",
   "metadata": {
    "colab": {},
    "colab_type": "code",
    "id": "eH2_X2f_VHb_"
   },
   "outputs": [],
   "source": [
    "cadena = \"Juan's height u\""
   ]
  },
  {
   "cell_type": "code",
   "execution_count": 12,
   "id": "46307d81",
   "metadata": {
    "colab": {
     "base_uri": "https://localhost:8080/",
     "height": 51
    },
    "colab_type": "code",
    "executionInfo": {
     "elapsed": 650,
     "status": "ok",
     "timestamp": 1591056494418,
     "user": {
      "displayName": "Ana Lopez",
      "photoUrl": "https://lh3.googleusercontent.com/a-/AOh14Gj1dkF5QHwdzo0ygY_LrTIzktyfsXlogjzGema4=s64",
      "userId": "15130352723004509221"
     },
     "user_tz": 300
    },
    "id": "NxDyPy2eX-c3",
    "outputId": "abfdb4de-a441-46f9-8d5d-f0e7e9f7c565"
   },
   "outputs": [
    {
     "name": "stdout",
     "output_type": "stream",
     "text": [
      "Primer caracter:  J\n",
      "Ultimo caracter:  u\n"
     ]
    }
   ],
   "source": [
    "print(\"Primer caracter: \",cadena[0])\n",
    "print(\"Ultimo caracter: \",cadena[-1])"
   ]
  },
  {
   "cell_type": "code",
   "execution_count": 13,
   "id": "08d10bfd",
   "metadata": {
    "colab": {},
    "colab_type": "code",
    "id": "anXi-2fLYBA7"
   },
   "outputs": [
    {
     "name": "stdout",
     "output_type": "stream",
     "text": [
      "<class 'str'>\n"
     ]
    }
   ],
   "source": [
    "print(type(cadena[0]))"
   ]
  },
  {
   "cell_type": "markdown",
   "id": "0ab59306",
   "metadata": {
    "colab_type": "text",
    "id": "qrpLrpeZYUvH"
   },
   "source": [
    "Las cadenas son inmutables"
   ]
  },
  {
   "cell_type": "code",
   "execution_count": 14,
   "id": "144006ed",
   "metadata": {
    "colab": {
     "base_uri": "https://localhost:8080/",
     "height": 164
    },
    "colab_type": "code",
    "executionInfo": {
     "elapsed": 753,
     "status": "error",
     "timestamp": 1591056522214,
     "user": {
      "displayName": "Ana Lopez",
      "photoUrl": "https://lh3.googleusercontent.com/a-/AOh14Gj1dkF5QHwdzo0ygY_LrTIzktyfsXlogjzGema4=s64",
      "userId": "15130352723004509221"
     },
     "user_tz": 300
    },
    "id": "9uvqrUN7YPk2",
    "outputId": "67d91726-3d38-416a-fa64-765f4874b778"
   },
   "outputs": [
    {
     "ename": "TypeError",
     "evalue": "'str' object does not support item assignment",
     "output_type": "error",
     "traceback": [
      "\u001b[1;31m---------------------------------------------------------------------------\u001b[0m",
      "\u001b[1;31mTypeError\u001b[0m                                 Traceback (most recent call last)",
      "Cell \u001b[1;32mIn[14], line 1\u001b[0m\n\u001b[1;32m----> 1\u001b[0m \u001b[43mcadena\u001b[49m\u001b[43m[\u001b[49m\u001b[38;5;241;43m1\u001b[39;49m\u001b[43m]\u001b[49m \u001b[38;5;241m=\u001b[39m \u001b[38;5;124m'\u001b[39m\u001b[38;5;124mo\u001b[39m\u001b[38;5;124m'\u001b[39m\n",
      "\u001b[1;31mTypeError\u001b[0m: 'str' object does not support item assignment"
     ]
    }
   ],
   "source": [
    "cadena[1] = 'o'"
   ]
  },
  {
   "cell_type": "markdown",
   "id": "483c87f7",
   "metadata": {
    "colab_type": "text",
    "id": "Qgn2BDHPZSlV"
   },
   "source": [
    "Si se desea cambiar el valor de un caracter de una cadena se debe de usar las funciones propias del objeto string."
   ]
  },
  {
   "cell_type": "code",
   "execution_count": 15,
   "id": "9e648d23",
   "metadata": {
    "colab": {
     "base_uri": "https://localhost:8080/",
     "height": 34
    },
    "colab_type": "code",
    "executionInfo": {
     "elapsed": 728,
     "status": "ok",
     "timestamp": 1591056537594,
     "user": {
      "displayName": "Ana Lopez",
      "photoUrl": "https://lh3.googleusercontent.com/a-/AOh14Gj1dkF5QHwdzo0ygY_LrTIzktyfsXlogjzGema4=s64",
      "userId": "15130352723004509221"
     },
     "user_tz": 300
    },
    "id": "vz3CFTw0ZR4l",
    "outputId": "862fd43c-8f1c-47d2-9656-16e0664824a5"
   },
   "outputs": [
    {
     "data": {
      "text/plain": [
       "\"Joan's height o\""
      ]
     },
     "execution_count": 15,
     "metadata": {},
     "output_type": "execute_result"
    }
   ],
   "source": [
    "str.replace(cadena,'u','o')"
   ]
  },
  {
   "cell_type": "code",
   "execution_count": 16,
   "id": "7daaeb28",
   "metadata": {
    "colab": {
     "base_uri": "https://localhost:8080/",
     "height": 34
    },
    "colab_type": "code",
    "executionInfo": {
     "elapsed": 1146,
     "status": "ok",
     "timestamp": 1591056570700,
     "user": {
      "displayName": "Ana Lopez",
      "photoUrl": "https://lh3.googleusercontent.com/a-/AOh14Gj1dkF5QHwdzo0ygY_LrTIzktyfsXlogjzGema4=s64",
      "userId": "15130352723004509221"
     },
     "user_tz": 300
    },
    "id": "SwFs43R4XEb3",
    "outputId": "de50029b-b3b5-4216-e60b-fc2dc3791c66"
   },
   "outputs": [
    {
     "data": {
      "text/plain": [
       "\"Juan's height u\""
      ]
     },
     "execution_count": 16,
     "metadata": {},
     "output_type": "execute_result"
    }
   ],
   "source": [
    "cadena"
   ]
  },
  {
   "cell_type": "code",
   "execution_count": 17,
   "id": "2b36a92a",
   "metadata": {
    "colab": {},
    "colab_type": "code",
    "id": "jQRoC1ccuaPO"
   },
   "outputs": [
    {
     "name": "stdout",
     "output_type": "stream",
     "text": [
      "Joan's height o\n"
     ]
    }
   ],
   "source": [
    "cadena = str.replace(cadena,'u','o')\n",
    "print(cadena)"
   ]
  },
  {
   "cell_type": "markdown",
   "id": "15d49a3e",
   "metadata": {
    "colab_type": "text",
    "id": "-NR8eEZuZ8CI"
   },
   "source": [
    "Si se desea conocer el tamaño de la cadena de caracteres se usa el metodo `len(cadena)`."
   ]
  },
  {
   "cell_type": "code",
   "execution_count": 18,
   "id": "9a94b461",
   "metadata": {
    "colab": {
     "base_uri": "https://localhost:8080/",
     "height": 34
    },
    "colab_type": "code",
    "executionInfo": {
     "elapsed": 675,
     "status": "ok",
     "timestamp": 1591056597132,
     "user": {
      "displayName": "Ana Lopez",
      "photoUrl": "https://lh3.googleusercontent.com/a-/AOh14Gj1dkF5QHwdzo0ygY_LrTIzktyfsXlogjzGema4=s64",
      "userId": "15130352723004509221"
     },
     "user_tz": 300
    },
    "id": "R-DN26BbYaKe",
    "outputId": "a8bfb67e-0f92-4ce7-ebe9-4e24e829c1b4"
   },
   "outputs": [
    {
     "data": {
      "text/plain": [
       "15"
      ]
     },
     "execution_count": 18,
     "metadata": {},
     "output_type": "execute_result"
    }
   ],
   "source": [
    "len(cadena)"
   ]
  },
  {
   "cell_type": "markdown",
   "id": "7f693b26",
   "metadata": {
    "colab_type": "text",
    "id": "dRYVXYPbg-Up"
   },
   "source": [
    "Si se desea conocer si un caracter esta en una cadena de caracteres se usa el operador `in`."
   ]
  },
  {
   "cell_type": "code",
   "execution_count": 19,
   "id": "d7e479d0",
   "metadata": {
    "colab": {
     "base_uri": "https://localhost:8080/",
     "height": 34
    },
    "colab_type": "code",
    "executionInfo": {
     "elapsed": 702,
     "status": "ok",
     "timestamp": 1591056620749,
     "user": {
      "displayName": "Ana Lopez",
      "photoUrl": "https://lh3.googleusercontent.com/a-/AOh14Gj1dkF5QHwdzo0ygY_LrTIzktyfsXlogjzGema4=s64",
      "userId": "15130352723004509221"
     },
     "user_tz": 300
    },
    "id": "Em3epH4FgyuK",
    "outputId": "20da3387-9e29-4b81-c52a-49f8a12b6b26"
   },
   "outputs": [
    {
     "data": {
      "text/plain": [
       "False"
      ]
     },
     "execution_count": 19,
     "metadata": {},
     "output_type": "execute_result"
    }
   ],
   "source": [
    "'on' in cadena"
   ]
  },
  {
   "cell_type": "markdown",
   "id": "af2810a7",
   "metadata": {
    "colab_type": "text",
    "id": "2ExiuuVDbAjU"
   },
   "source": [
    "### Cortar (Slicing) Cadenas\n",
    "\n",
    "**Slicing** en Python es un camino poderoso para extraer sub-partes de una cadena, listas y tuplas.\n",
    "\n",
    "```\n",
    "str[start:end]\n",
    "````\n",
    "**start**: sub-cadena inicia desde este elemento\n",
    "\n",
    "**end**: fin sub-cadena, excluye el elemento en este index.\n",
    "\n",
    "|G|r|u|p|o|\n",
    "|-|-|-|-|-|\n",
    "|0|1|2|3|4|\n",
    "\n",
    "```python\n",
    "cadena = \"Grupo\"\n",
    "print(cadena[0:2])\n",
    "```\n",
    "|G|r|\n",
    "|-|-|\n",
    "|0|1|\n"
   ]
  },
  {
   "cell_type": "code",
   "execution_count": 20,
   "id": "fbfd2587",
   "metadata": {
    "colab": {
     "base_uri": "https://localhost:8080/",
     "height": 34
    },
    "colab_type": "code",
    "executionInfo": {
     "elapsed": 656,
     "status": "ok",
     "timestamp": 1591056683912,
     "user": {
      "displayName": "Ana Lopez",
      "photoUrl": "https://lh3.googleusercontent.com/a-/AOh14Gj1dkF5QHwdzo0ygY_LrTIzktyfsXlogjzGema4=s64",
      "userId": "15130352723004509221"
     },
     "user_tz": 300
    },
    "id": "bYxBWAfha9JH",
    "outputId": "cb3a424e-af3c-49f0-d15e-de9fe303f8eb"
   },
   "outputs": [
    {
     "name": "stdout",
     "output_type": "stream",
     "text": [
      "Gr\n"
     ]
    }
   ],
   "source": [
    "cadena = \"Grupo\"\n",
    "print(cadena[0:2])"
   ]
  },
  {
   "cell_type": "code",
   "execution_count": 21,
   "id": "bf2e6bc6",
   "metadata": {
    "colab": {
     "base_uri": "https://localhost:8080/",
     "height": 34
    },
    "colab_type": "code",
    "executionInfo": {
     "elapsed": 725,
     "status": "ok",
     "timestamp": 1591056690288,
     "user": {
      "displayName": "Ana Lopez",
      "photoUrl": "https://lh3.googleusercontent.com/a-/AOh14Gj1dkF5QHwdzo0ygY_LrTIzktyfsXlogjzGema4=s64",
      "userId": "15130352723004509221"
     },
     "user_tz": 300
    },
    "id": "RC9_OuVYaDfS",
    "outputId": "a1e8be74-6e98-4d4e-bee5-852512439f9e"
   },
   "outputs": [
    {
     "name": "stdout",
     "output_type": "stream",
     "text": [
      "Grup\n"
     ]
    }
   ],
   "source": [
    "# Sub-cadena desde la posicion inicial, 4 caracteres.\n",
    "print(cadena[0:4])"
   ]
  },
  {
   "cell_type": "code",
   "execution_count": 22,
   "id": "0418d1a7",
   "metadata": {
    "colab": {
     "base_uri": "https://localhost:8080/",
     "height": 34
    },
    "colab_type": "code",
    "executionInfo": {
     "elapsed": 652,
     "status": "ok",
     "timestamp": 1591056698666,
     "user": {
      "displayName": "Ana Lopez",
      "photoUrl": "https://lh3.googleusercontent.com/a-/AOh14Gj1dkF5QHwdzo0ygY_LrTIzktyfsXlogjzGema4=s64",
      "userId": "15130352723004509221"
     },
     "user_tz": 300
    },
    "id": "TvEA0WgEcbwD",
    "outputId": "312ba4f0-420a-4387-cc98-7ceae8b41ae9"
   },
   "outputs": [
    {
     "name": "stdout",
     "output_type": "stream",
     "text": [
      "Grup\n"
     ]
    }
   ],
   "source": [
    "# Exactamente igual al anterior, solo que el 0 es el índice inicial implícito)\n",
    "print(cadena[:4])"
   ]
  },
  {
   "cell_type": "code",
   "execution_count": 23,
   "id": "b5eed453",
   "metadata": {
    "colab": {
     "base_uri": "https://localhost:8080/",
     "height": 34
    },
    "colab_type": "code",
    "executionInfo": {
     "elapsed": 610,
     "status": "ok",
     "timestamp": 1591056701974,
     "user": {
      "displayName": "Ana Lopez",
      "photoUrl": "https://lh3.googleusercontent.com/a-/AOh14Gj1dkF5QHwdzo0ygY_LrTIzktyfsXlogjzGema4=s64",
      "userId": "15130352723004509221"
     },
     "user_tz": 300
    },
    "id": "_BaUosZ4df_C",
    "outputId": "fffd2596-81ed-4b24-cf08-0ea9868379c1"
   },
   "outputs": [
    {
     "name": "stdout",
     "output_type": "stream",
     "text": [
      "o\n"
     ]
    }
   ],
   "source": [
    "# Sub-cadena desde el cuarto caracter hasta el final\n",
    "print(cadena[4:])"
   ]
  },
  {
   "cell_type": "code",
   "execution_count": 24,
   "id": "8386e102",
   "metadata": {
    "colab": {},
    "colab_type": "code",
    "id": "HhjF7fNzfYSD"
   },
   "outputs": [
    {
     "name": "stdout",
     "output_type": "stream",
     "text": [
      "rup\n"
     ]
    }
   ],
   "source": [
    "# Sub-cadena desde el caracter en la posicion 1 hasta el caracter en la posicion 4\n",
    "print(cadena[1:4])"
   ]
  },
  {
   "cell_type": "code",
   "execution_count": 25,
   "id": "c3ad7dd5",
   "metadata": {
    "colab": {
     "base_uri": "https://localhost:8080/",
     "height": 34
    },
    "colab_type": "code",
    "executionInfo": {
     "elapsed": 695,
     "status": "ok",
     "timestamp": 1591056707057,
     "user": {
      "displayName": "Ana Lopez",
      "photoUrl": "https://lh3.googleusercontent.com/a-/AOh14Gj1dkF5QHwdzo0ygY_LrTIzktyfsXlogjzGema4=s64",
      "userId": "15130352723004509221"
     },
     "user_tz": 300
    },
    "id": "dHhDxLfNfnMP",
    "outputId": "f30fdce0-bb0d-449b-c278-06acad8c4ee3"
   },
   "outputs": [
    {
     "name": "stdout",
     "output_type": "stream",
     "text": [
      "upo\n"
     ]
    }
   ],
   "source": [
    "# Sub-cadena con indices negativos, el -1 es el índice final implícito.\n",
    "print(cadena[-3:])"
   ]
  },
  {
   "cell_type": "code",
   "execution_count": 26,
   "id": "801044c2",
   "metadata": {
    "colab": {
     "base_uri": "https://localhost:8080/",
     "height": 34
    },
    "colab_type": "code",
    "executionInfo": {
     "elapsed": 708,
     "status": "ok",
     "timestamp": 1591056710516,
     "user": {
      "displayName": "Ana Lopez",
      "photoUrl": "https://lh3.googleusercontent.com/a-/AOh14Gj1dkF5QHwdzo0ygY_LrTIzktyfsXlogjzGema4=s64",
      "userId": "15130352723004509221"
     },
     "user_tz": 300
    },
    "id": "_43uhB74fwah",
    "outputId": "4e634737-a7b7-4888-9876-11a34aed55d0"
   },
   "outputs": [
    {
     "name": "stdout",
     "output_type": "stream",
     "text": [
      "rup\n"
     ]
    }
   ],
   "source": [
    "# Sub-cadena con indices negativos\n",
    "print(cadena[-4:-1])"
   ]
  },
  {
   "cell_type": "markdown",
   "id": "aa827a76",
   "metadata": {
    "colab_type": "text",
    "id": "7aZp14WQgk-b"
   },
   "source": [
    "## Manejo de Listas\n",
    "\n",
    "Una lista es un arreglo de elementos donde podemos ingresar cualquier tipo de dato, para acceder a estos datos lo podemos hacer mediante un índice."
   ]
  },
  {
   "cell_type": "code",
   "execution_count": 27,
   "id": "34e2c071",
   "metadata": {
    "colab": {},
    "colab_type": "code",
    "id": "rJfiHrfOhdOI"
   },
   "outputs": [],
   "source": [
    "lista = [1,2.5,'Grupo',[1,2],10,'Grupo']"
   ]
  },
  {
   "cell_type": "code",
   "execution_count": 28,
   "id": "53e1cee9",
   "metadata": {
    "colab": {},
    "colab_type": "code",
    "id": "Eqkpt_OehqHd"
   },
   "outputs": [
    {
     "name": "stdout",
     "output_type": "stream",
     "text": [
      "Primer elemento de la lista:  1\n",
      "Ultimo elemento de la lista:  Grupo\n"
     ]
    }
   ],
   "source": [
    "print(\"Primer elemento de la lista: \",lista[0])\n",
    "print(\"Ultimo elemento de la lista: \",lista[-1])"
   ]
  },
  {
   "cell_type": "code",
   "execution_count": 29,
   "id": "6444dc8b",
   "metadata": {
    "colab": {},
    "colab_type": "code",
    "id": "hrQ2yMfjh-Le"
   },
   "outputs": [
    {
     "name": "stdout",
     "output_type": "stream",
     "text": [
      "[1, 2]\n"
     ]
    }
   ],
   "source": [
    "# Obtener el elemento de la posicion 3\n",
    "print(lista[3])"
   ]
  },
  {
   "cell_type": "markdown",
   "id": "347e59af",
   "metadata": {
    "colab_type": "text",
    "id": "2K5o5O7aiOXq"
   },
   "source": [
    "Si la posición 3 es una lista, para acceder a los elementos de esta lista se realiza de la siguiente manera."
   ]
  },
  {
   "cell_type": "code",
   "execution_count": 30,
   "id": "0e7b2bd2",
   "metadata": {
    "colab": {
     "base_uri": "https://localhost:8080/",
     "height": 34
    },
    "colab_type": "code",
    "executionInfo": {
     "elapsed": 835,
     "status": "ok",
     "timestamp": 1591056751238,
     "user": {
      "displayName": "Ana Lopez",
      "photoUrl": "https://lh3.googleusercontent.com/a-/AOh14Gj1dkF5QHwdzo0ygY_LrTIzktyfsXlogjzGema4=s64",
      "userId": "15130352723004509221"
     },
     "user_tz": 300
    },
    "id": "vZZHIxiCiKF-",
    "outputId": "de65ce3f-b7a9-425f-dbd9-b5d41b0a9d73"
   },
   "outputs": [
    {
     "name": "stdout",
     "output_type": "stream",
     "text": [
      "2\n"
     ]
    }
   ],
   "source": [
    "# Obtener el elemento de la posicion 3, obtener el elemento 1 de esta lista\n",
    "print(lista[3][1])"
   ]
  },
  {
   "cell_type": "code",
   "execution_count": 31,
   "id": "645784b0",
   "metadata": {
    "colab": {
     "base_uri": "https://localhost:8080/",
     "height": 34
    },
    "colab_type": "code",
    "executionInfo": {
     "elapsed": 766,
     "status": "ok",
     "timestamp": 1591056757417,
     "user": {
      "displayName": "Ana Lopez",
      "photoUrl": "https://lh3.googleusercontent.com/a-/AOh14Gj1dkF5QHwdzo0ygY_LrTIzktyfsXlogjzGema4=s64",
      "userId": "15130352723004509221"
     },
     "user_tz": 300
    },
    "id": "UUduKW-ZiNa0",
    "outputId": "677bfcce-8425-4a0f-c148-ce016b05b264"
   },
   "outputs": [
    {
     "name": "stdout",
     "output_type": "stream",
     "text": [
      "[2.5, 'Grupo']\n"
     ]
    }
   ],
   "source": [
    "# Obtener los elementos de la posicion 1 hasta la 3\n",
    "print(lista[1:3])"
   ]
  },
  {
   "cell_type": "code",
   "execution_count": 32,
   "id": "eff9d142",
   "metadata": {
    "colab": {
     "base_uri": "https://localhost:8080/",
     "height": 34
    },
    "colab_type": "code",
    "executionInfo": {
     "elapsed": 798,
     "status": "ok",
     "timestamp": 1591056912055,
     "user": {
      "displayName": "Ana Lopez",
      "photoUrl": "https://lh3.googleusercontent.com/a-/AOh14Gj1dkF5QHwdzo0ygY_LrTIzktyfsXlogjzGema4=s64",
      "userId": "15130352723004509221"
     },
     "user_tz": 300
    },
    "id": "K56Tf3SDiv9D",
    "outputId": "70c55514-820f-4027-acfc-5a1a2fea5f7c"
   },
   "outputs": [
    {
     "name": "stdout",
     "output_type": "stream",
     "text": [
      "[1, 2.5, 'Grupo', [1, 2], 10, 'Grupo', 'Nuevo']\n"
     ]
    }
   ],
   "source": [
    "# Adicionar un elemento a la lista\n",
    "lista.append('Nuevo')\n",
    "print(lista)"
   ]
  },
  {
   "cell_type": "code",
   "execution_count": 33,
   "id": "419e1b34",
   "metadata": {
    "colab": {
     "base_uri": "https://localhost:8080/",
     "height": 34
    },
    "colab_type": "code",
    "executionInfo": {
     "elapsed": 809,
     "status": "ok",
     "timestamp": 1591056932322,
     "user": {
      "displayName": "Ana Lopez",
      "photoUrl": "https://lh3.googleusercontent.com/a-/AOh14Gj1dkF5QHwdzo0ygY_LrTIzktyfsXlogjzGema4=s64",
      "userId": "15130352723004509221"
     },
     "user_tz": 300
    },
    "id": "jL7rmUmEjQf3",
    "outputId": "31c5c5a4-2374-4e41-d45b-63fa02f0de19"
   },
   "outputs": [
    {
     "name": "stdout",
     "output_type": "stream",
     "text": [
      "[1, 2.5, 'Grupo', [1, 2], 10, 'Grupo', 'Nuevo', 'Elemento', 45]\n"
     ]
    }
   ],
   "source": [
    "# Extend permite agregar elementos pero al agregar una lista cada elemento de esta se agrega como un elemento mas dentro de la otra lista\n",
    "lista.extend(['Elemento',45])\n",
    "print(lista)"
   ]
  },
  {
   "cell_type": "code",
   "execution_count": 34,
   "id": "e8d6be5a",
   "metadata": {
    "colab": {
     "base_uri": "https://localhost:8080/",
     "height": 34
    },
    "colab_type": "code",
    "executionInfo": {
     "elapsed": 804,
     "status": "ok",
     "timestamp": 1591056947632,
     "user": {
      "displayName": "Ana Lopez",
      "photoUrl": "https://lh3.googleusercontent.com/a-/AOh14Gj1dkF5QHwdzo0ygY_LrTIzktyfsXlogjzGema4=s64",
      "userId": "15130352723004509221"
     },
     "user_tz": 300
    },
    "id": "l9PyPRKsAJOZ",
    "outputId": "91a3f904-addc-4bd5-eda4-c638093060cf"
   },
   "outputs": [
    {
     "name": "stdout",
     "output_type": "stream",
     "text": [
      "[1, 2.5, 'Grupo', 1, [1, 2], 10, 'Grupo', 'Nuevo', 'Elemento', 45]\n"
     ]
    }
   ],
   "source": [
    "# Inserta un elemento en la posicion dada\n",
    "lista.insert(3,1)\n",
    "print(lista)"
   ]
  },
  {
   "cell_type": "code",
   "execution_count": 35,
   "id": "3710b6cf",
   "metadata": {
    "colab": {
     "base_uri": "https://localhost:8080/",
     "height": 34
    },
    "colab_type": "code",
    "executionInfo": {
     "elapsed": 761,
     "status": "ok",
     "timestamp": 1591056961923,
     "user": {
      "displayName": "Ana Lopez",
      "photoUrl": "https://lh3.googleusercontent.com/a-/AOh14Gj1dkF5QHwdzo0ygY_LrTIzktyfsXlogjzGema4=s64",
      "userId": "15130352723004509221"
     },
     "user_tz": 300
    },
    "id": "oBzaPwCSjh9X",
    "outputId": "854dcf97-837b-4831-9cb1-3628a49824ab"
   },
   "outputs": [
    {
     "name": "stdout",
     "output_type": "stream",
     "text": [
      "[1, 2.5, 'Grupo', 1, [1, 2], 'Grupo', 'Nuevo', 'Elemento', 45]\n"
     ]
    }
   ],
   "source": [
    "# Eliminar un elemento de la lista\n",
    "lista.remove(10)\n",
    "print(lista)"
   ]
  },
  {
   "cell_type": "code",
   "execution_count": 36,
   "id": "feb27f19",
   "metadata": {
    "colab": {
     "base_uri": "https://localhost:8080/",
     "height": 34
    },
    "colab_type": "code",
    "executionInfo": {
     "elapsed": 2120,
     "status": "ok",
     "timestamp": 1591056984251,
     "user": {
      "displayName": "Ana Lopez",
      "photoUrl": "https://lh3.googleusercontent.com/a-/AOh14Gj1dkF5QHwdzo0ygY_LrTIzktyfsXlogjzGema4=s64",
      "userId": "15130352723004509221"
     },
     "user_tz": 300
    },
    "id": "PYAuUj1Ajrct",
    "outputId": "52995ba9-eb73-49b4-ebe5-137322b3e8c4"
   },
   "outputs": [
    {
     "name": "stdout",
     "output_type": "stream",
     "text": [
      "2\n"
     ]
    }
   ],
   "source": [
    "# Devuelve el número de indice del elemento que le pasamor por parámetro\n",
    "print(lista.index('Grupo'))"
   ]
  },
  {
   "cell_type": "code",
   "execution_count": 37,
   "id": "dd242494",
   "metadata": {
    "colab": {
     "base_uri": "https://localhost:8080/",
     "height": 51
    },
    "colab_type": "code",
    "executionInfo": {
     "elapsed": 647,
     "status": "ok",
     "timestamp": 1591057011706,
     "user": {
      "displayName": "Ana Lopez",
      "photoUrl": "https://lh3.googleusercontent.com/a-/AOh14Gj1dkF5QHwdzo0ygY_LrTIzktyfsXlogjzGema4=s64",
      "userId": "15130352723004509221"
     },
     "user_tz": 300
    },
    "id": "1aH6nX11AiWG",
    "outputId": "1d04ffd8-14ac-4131-a931-facdea40116f"
   },
   "outputs": [
    {
     "name": "stdout",
     "output_type": "stream",
     "text": [
      "Grupo\n",
      "[1, 2.5, 1, [1, 2], 'Grupo', 'Nuevo', 'Elemento', 45]\n"
     ]
    }
   ],
   "source": [
    "# Devuelve el elemento en la posicion dada de la lista y lo elimina\n",
    "print(lista.pop(2))\n",
    "print(lista)"
   ]
  },
  {
   "cell_type": "code",
   "execution_count": 38,
   "id": "f7d5ff74",
   "metadata": {
    "colab": {
     "base_uri": "https://localhost:8080/",
     "height": 34
    },
    "colab_type": "code",
    "executionInfo": {
     "elapsed": 721,
     "status": "ok",
     "timestamp": 1591057023330,
     "user": {
      "displayName": "Ana Lopez",
      "photoUrl": "https://lh3.googleusercontent.com/a-/AOh14Gj1dkF5QHwdzo0ygY_LrTIzktyfsXlogjzGema4=s64",
      "userId": "15130352723004509221"
     },
     "user_tz": 300
    },
    "id": "9R6HePjPkA-Q",
    "outputId": "5f32b332-e738-4d21-ae64-c1d4dda1677c"
   },
   "outputs": [
    {
     "name": "stdout",
     "output_type": "stream",
     "text": [
      "1\n"
     ]
    }
   ],
   "source": [
    "# Devuelve cuantas veces un elemento de una lista se repite\n",
    "print(lista.count('Grupo'))"
   ]
  },
  {
   "cell_type": "code",
   "execution_count": 39,
   "id": "43955f39",
   "metadata": {
    "colab": {
     "base_uri": "https://localhost:8080/",
     "height": 34
    },
    "colab_type": "code",
    "executionInfo": {
     "elapsed": 645,
     "status": "ok",
     "timestamp": 1591057034354,
     "user": {
      "displayName": "Ana Lopez",
      "photoUrl": "https://lh3.googleusercontent.com/a-/AOh14Gj1dkF5QHwdzo0ygY_LrTIzktyfsXlogjzGema4=s64",
      "userId": "15130352723004509221"
     },
     "user_tz": 300
    },
    "id": "i3OWc52-kMZH",
    "outputId": "7b1cc1e1-0fc3-4723-ce07-4769370eb1f7"
   },
   "outputs": [
    {
     "name": "stdout",
     "output_type": "stream",
     "text": [
      "[45, 'Elemento', 'Nuevo', 'Grupo', [1, 2], 1, 2.5, 1]\n"
     ]
    }
   ],
   "source": [
    "# Invertir los elementos de una lista\n",
    "lista.reverse()\n",
    "print(lista)"
   ]
  },
  {
   "cell_type": "code",
   "execution_count": 40,
   "id": "53dea21e",
   "metadata": {
    "colab": {},
    "colab_type": "code",
    "id": "djMAaRAay0cc"
   },
   "outputs": [
    {
     "name": "stdout",
     "output_type": "stream",
     "text": [
      "Help on NoneType object:\n",
      "\n",
      "class NoneType(object)\n",
      " |  Methods defined here:\n",
      " |  \n",
      " |  __bool__(self, /)\n",
      " |      True if self else False\n",
      " |  \n",
      " |  __repr__(self, /)\n",
      " |      Return repr(self).\n",
      " |  \n",
      " |  ----------------------------------------------------------------------\n",
      " |  Static methods defined here:\n",
      " |  \n",
      " |  __new__(*args, **kwargs)\n",
      " |      Create and return a new object.  See help(type) for accurate signature.\n",
      "\n"
     ]
    }
   ],
   "source": [
    "help(lista.reverse())"
   ]
  },
  {
   "cell_type": "code",
   "execution_count": 41,
   "id": "55842c9c",
   "metadata": {
    "colab": {},
    "colab_type": "code",
    "id": "svNMggBgCq6_"
   },
   "outputs": [
    {
     "name": "stdout",
     "output_type": "stream",
     "text": [
      "[3, 2.5, 1, [1, 2], 'Grupo', 'Nuevo', 'Elemento', 45]\n"
     ]
    }
   ],
   "source": [
    "# Las listas son mutables\n",
    "lista[0] = 3\n",
    "print(lista)"
   ]
  },
  {
   "cell_type": "code",
   "execution_count": 42,
   "id": "97cefe2a",
   "metadata": {
    "colab": {
     "base_uri": "https://localhost:8080/",
     "height": 34
    },
    "colab_type": "code",
    "executionInfo": {
     "elapsed": 731,
     "status": "ok",
     "timestamp": 1591057072504,
     "user": {
      "displayName": "Ana Lopez",
      "photoUrl": "https://lh3.googleusercontent.com/a-/AOh14Gj1dkF5QHwdzo0ygY_LrTIzktyfsXlogjzGema4=s64",
      "userId": "15130352723004509221"
     },
     "user_tz": 300
    },
    "id": "1s6yNFss1HLM",
    "outputId": "e0e2ea77-b3d4-4ee4-a3f8-6349c7091f84"
   },
   "outputs": [
    {
     "data": {
      "text/plain": [
       "True"
      ]
     },
     "execution_count": 42,
     "metadata": {},
     "output_type": "execute_result"
    }
   ],
   "source": [
    "3 in lista"
   ]
  },
  {
   "cell_type": "markdown",
   "id": "a0c8933f",
   "metadata": {
    "colab_type": "text",
    "id": "cww9WuV7Atw5"
   },
   "source": [
    "## Manejo de Diccionarios\n",
    "\n",
    "Al contrario de las listas los diccionarios no tienen orden, un diccionario es una palabra que tiene asociado algo.\n",
    "\n",
    "Se crean poniendo sus elementos entre llaves (`{\"a\":\"Alicante\",\"b\":\"Barcelona\"}`). Se denominan keys a las **palabras** y values a las **definiciones**. Lógicamente no puede haber dos keys iguales, pero si dos values iguales.\n"
   ]
  },
  {
   "cell_type": "code",
   "execution_count": 43,
   "id": "50391b03",
   "metadata": {
    "colab": {
     "base_uri": "https://localhost:8080/",
     "height": 34
    },
    "colab_type": "code",
    "executionInfo": {
     "elapsed": 674,
     "status": "ok",
     "timestamp": 1591057108294,
     "user": {
      "displayName": "Ana Lopez",
      "photoUrl": "https://lh3.googleusercontent.com/a-/AOh14Gj1dkF5QHwdzo0ygY_LrTIzktyfsXlogjzGema4=s64",
      "userId": "15130352723004509221"
     },
     "user_tz": 300
    },
    "id": "_fJ3dy5fAsw-",
    "outputId": "fa24ed95-c98e-4d38-a860-19ddd9567084"
   },
   "outputs": [
    {
     "name": "stdout",
     "output_type": "stream",
     "text": [
      "{'Piloto 1': 'Fernando Alonso', 'Piloto 2': 'Kimi Raikkonen', 'Piloto 3': 'Felipe Massa'}\n"
     ]
    }
   ],
   "source": [
    "diccionario = {'Piloto 1':'Fernando Alonso', 'Piloto 2':'Kimi Raikkonen', 'Piloto 3':'Felipe Massa'}\n",
    "print(diccionario)"
   ]
  },
  {
   "cell_type": "code",
   "execution_count": 44,
   "id": "ddb3ca94",
   "metadata": {
    "colab": {
     "base_uri": "https://localhost:8080/",
     "height": 51
    },
    "colab_type": "code",
    "executionInfo": {
     "elapsed": 567,
     "status": "ok",
     "timestamp": 1591057130674,
     "user": {
      "displayName": "Ana Lopez",
      "photoUrl": "https://lh3.googleusercontent.com/a-/AOh14Gj1dkF5QHwdzo0ygY_LrTIzktyfsXlogjzGema4=s64",
      "userId": "15130352723004509221"
     },
     "user_tz": 300
    },
    "id": "nKRs88CoCL8y",
    "outputId": "369a1741-3ec2-4376-817a-57410cefdd91"
   },
   "outputs": [
    {
     "name": "stdout",
     "output_type": "stream",
     "text": [
      "Fernando Alonso\n",
      "Fernando Alonso\n"
     ]
    }
   ],
   "source": [
    "# Devuelve el valor que corresponde con la key introducida.\n",
    "print(diccionario.get('Piloto 1'))\n",
    "print(diccionario['Piloto 1'])"
   ]
  },
  {
   "cell_type": "code",
   "execution_count": 45,
   "id": "4548a70e",
   "metadata": {
    "colab": {
     "base_uri": "https://localhost:8080/",
     "height": 51
    },
    "colab_type": "code",
    "executionInfo": {
     "elapsed": 739,
     "status": "ok",
     "timestamp": 1591057151515,
     "user": {
      "displayName": "Ana Lopez",
      "photoUrl": "https://lh3.googleusercontent.com/a-/AOh14Gj1dkF5QHwdzo0ygY_LrTIzktyfsXlogjzGema4=s64",
      "userId": "15130352723004509221"
     },
     "user_tz": 300
    },
    "id": "7rore5CBCYmu",
    "outputId": "630dd299-73ab-4309-973a-33533f34b350"
   },
   "outputs": [
    {
     "name": "stdout",
     "output_type": "stream",
     "text": [
      "Fernando Alonso\n",
      "{'Piloto 2': 'Kimi Raikkonen', 'Piloto 3': 'Felipe Massa'}\n"
     ]
    }
   ],
   "source": [
    "# Devuelve el valor que corresponde con la key introducida, y luego borra la key y el valor.\n",
    "print(diccionario.pop('Piloto 1'))\n",
    "print(diccionario)"
   ]
  },
  {
   "cell_type": "code",
   "execution_count": 46,
   "id": "509f8403",
   "metadata": {
    "colab": {
     "base_uri": "https://localhost:8080/",
     "height": 34
    },
    "colab_type": "code",
    "executionInfo": {
     "elapsed": 556,
     "status": "ok",
     "timestamp": 1591057166278,
     "user": {
      "displayName": "Ana Lopez",
      "photoUrl": "https://lh3.googleusercontent.com/a-/AOh14Gj1dkF5QHwdzo0ygY_LrTIzktyfsXlogjzGema4=s64",
      "userId": "15130352723004509221"
     },
     "user_tz": 300
    },
    "id": "S6sRHQy-CmkT",
    "outputId": "ef547911-424c-4efa-b484-1b2aa3299b48"
   },
   "outputs": [
    {
     "name": "stdout",
     "output_type": "stream",
     "text": [
      "{'Piloto 2': 'Sebastian Vettel', 'Piloto 3': 'Felipe Massa', 'Piloto 4': 'Lewis Hamilton'}\n"
     ]
    }
   ],
   "source": [
    "# Actualiza el valor de una determinada key o lo crea si no existe.\n",
    "diccionario.update({'Piloto 4':'Lewis Hamilton'})\n",
    "diccionario.update({'Piloto 2':'Sebastian Vettel'})\n",
    "print(diccionario)"
   ]
  },
  {
   "cell_type": "code",
   "execution_count": 47,
   "id": "01fd267a",
   "metadata": {
    "colab": {
     "base_uri": "https://localhost:8080/",
     "height": 34
    },
    "colab_type": "code",
    "executionInfo": {
     "elapsed": 722,
     "status": "ok",
     "timestamp": 1591057185740,
     "user": {
      "displayName": "Ana Lopez",
      "photoUrl": "https://lh3.googleusercontent.com/a-/AOh14Gj1dkF5QHwdzo0ygY_LrTIzktyfsXlogjzGema4=s64",
      "userId": "15130352723004509221"
     },
     "user_tz": 300
    },
    "id": "0DONnb6b0V8G",
    "outputId": "d4a366ab-f37c-4edf-9a61-ea4a3555aaf7"
   },
   "outputs": [
    {
     "name": "stdout",
     "output_type": "stream",
     "text": [
      "{'Piloto 2': 'Sebastian Vettel', 'Piloto 3': 'Felipe Massa', 'Piloto 4': 'Lewis Hamilton', 'Piloto 5': 'Juan Perez'}\n"
     ]
    }
   ],
   "source": [
    "diccionario['Piloto 5'] = 'Juan Perez'\n",
    "print(diccionario)"
   ]
  },
  {
   "cell_type": "code",
   "execution_count": 48,
   "id": "c00233ee",
   "metadata": {
    "colab": {
     "base_uri": "https://localhost:8080/",
     "height": 68
    },
    "colab_type": "code",
    "executionInfo": {
     "elapsed": 731,
     "status": "ok",
     "timestamp": 1591057224805,
     "user": {
      "displayName": "Ana Lopez",
      "photoUrl": "https://lh3.googleusercontent.com/a-/AOh14Gj1dkF5QHwdzo0ygY_LrTIzktyfsXlogjzGema4=s64",
      "userId": "15130352723004509221"
     },
     "user_tz": 300
    },
    "id": "RpqEwTofC-hX",
    "outputId": "940e278b-8d05-4228-85d4-8ae5c6f3ef77"
   },
   "outputs": [
    {
     "name": "stdout",
     "output_type": "stream",
     "text": [
      "True\n",
      "False\n",
      "False\n"
     ]
    }
   ],
   "source": [
    "# \"key\" in diccionario: devuelve verdadero (True) o falso (False) si la key existe en el diccionario.\n",
    "print (\"Piloto 2\" in diccionario)\n",
    "print (\"piloto 1\" in diccionario)\n",
    "print (\"Sebastian Vettel\" in diccionario)"
   ]
  },
  {
   "cell_type": "code",
   "execution_count": 49,
   "id": "ed702d18",
   "metadata": {
    "colab": {
     "base_uri": "https://localhost:8080/",
     "height": 34
    },
    "colab_type": "code",
    "executionInfo": {
     "elapsed": 609,
     "status": "ok",
     "timestamp": 1591057238454,
     "user": {
      "displayName": "Ana Lopez",
      "photoUrl": "https://lh3.googleusercontent.com/a-/AOh14Gj1dkF5QHwdzo0ygY_LrTIzktyfsXlogjzGema4=s64",
      "userId": "15130352723004509221"
     },
     "user_tz": 300
    },
    "id": "ZMddoLF0DOXe",
    "outputId": "c1a2f146-9e7d-49fb-f173-dcfc74000b38"
   },
   "outputs": [
    {
     "name": "stdout",
     "output_type": "stream",
     "text": [
      "True\n"
     ]
    }
   ],
   "source": [
    "# \"definición\" in diccionario.values(): devuelve verdadero (True) o falso (False) si la definición existe en el diccionario.\n",
    "print (\"Sebastian Vettel\" in diccionario.values())"
   ]
  },
  {
   "cell_type": "code",
   "execution_count": 50,
   "id": "efbbde38",
   "metadata": {
    "colab": {
     "base_uri": "https://localhost:8080/",
     "height": 34
    },
    "colab_type": "code",
    "executionInfo": {
     "elapsed": 782,
     "status": "ok",
     "timestamp": 1591057252484,
     "user": {
      "displayName": "Ana Lopez",
      "photoUrl": "https://lh3.googleusercontent.com/a-/AOh14Gj1dkF5QHwdzo0ygY_LrTIzktyfsXlogjzGema4=s64",
      "userId": "15130352723004509221"
     },
     "user_tz": 300
    },
    "id": "yQFfmXyCDTAb",
    "outputId": "623e9376-7b4c-498f-93f6-b6401dae0f5d"
   },
   "outputs": [
    {
     "name": "stdout",
     "output_type": "stream",
     "text": [
      "{'Piloto 3': 'Felipe Massa', 'Piloto 4': 'Lewis Hamilton', 'Piloto 5': 'Juan Perez'}\n"
     ]
    }
   ],
   "source": [
    "# del diccionario['key']: Elimina el valor (y el key) asociado a la key indicada.\n",
    "del diccionario['Piloto 2']\n",
    "print(diccionario)"
   ]
  },
  {
   "cell_type": "markdown",
   "id": "1c7c7e3d",
   "metadata": {
    "colab_type": "text",
    "id": "SGhcO1nd_7qa"
   },
   "source": [
    "## Manejo de Tuplas\n",
    "\n",
    "Las tuplas son inmutables, una vez creada, no se puede cambiar ni su contenido ni su tamaño."
   ]
  },
  {
   "cell_type": "code",
   "execution_count": 51,
   "id": "a7576cb1",
   "metadata": {
    "colab": {},
    "colab_type": "code",
    "id": "0iID8f9fFr6r"
   },
   "outputs": [],
   "source": [
    "tuple1 = (1,2,3,4,5)\n",
    "tuple2 = (6,7,8,9,10)"
   ]
  },
  {
   "cell_type": "code",
   "execution_count": 52,
   "id": "168c42df",
   "metadata": {
    "colab": {},
    "colab_type": "code",
    "id": "2YqtrLDNFxW4"
   },
   "outputs": [
    {
     "name": "stdout",
     "output_type": "stream",
     "text": [
      "(1, 2, 3, 4, 5, 6, 7, 8, 9, 10)\n"
     ]
    }
   ],
   "source": [
    "# Concatenar tuplas\n",
    "tuple3 = tuple1 + tuple2\n",
    "print(tuple3)"
   ]
  },
  {
   "cell_type": "code",
   "execution_count": 53,
   "id": "3e6a3f0c",
   "metadata": {
    "colab": {},
    "colab_type": "code",
    "id": "zBobFz2QF_LE"
   },
   "outputs": [
    {
     "name": "stdout",
     "output_type": "stream",
     "text": [
      "(1, 2, 3, 4, 5, 1, 2, 3, 4, 5, 1, 2, 3, 4, 5)\n"
     ]
    }
   ],
   "source": [
    "# Repetir tuplas\n",
    "print(tuple1 * 3)"
   ]
  },
  {
   "cell_type": "code",
   "execution_count": 54,
   "id": "7e459d3b",
   "metadata": {
    "colab": {},
    "colab_type": "code",
    "id": "sgAWbjg6GEbd"
   },
   "outputs": [
    {
     "name": "stdout",
     "output_type": "stream",
     "text": [
      "False\n",
      "True\n"
     ]
    }
   ],
   "source": [
    "# Validar si un elemento esta en la tupla\n",
    "print(7 in tuple1)\n",
    "print(7 in tuple2)"
   ]
  },
  {
   "cell_type": "code",
   "execution_count": 55,
   "id": "5f10661f",
   "metadata": {
    "colab": {},
    "colab_type": "code",
    "id": "cqgdN7jpGOEM"
   },
   "outputs": [
    {
     "name": "stdout",
     "output_type": "stream",
     "text": [
      "4\n"
     ]
    }
   ],
   "source": [
    "# Devuelve el indice del elemento\n",
    "print(tuple1.index(5))"
   ]
  },
  {
   "cell_type": "code",
   "execution_count": 56,
   "id": "825742f7",
   "metadata": {
    "colab": {},
    "colab_type": "code",
    "id": "drA9XgaDGZHt"
   },
   "outputs": [
    {
     "name": "stdout",
     "output_type": "stream",
     "text": [
      "4\n"
     ]
    }
   ],
   "source": [
    "# Devuelve cuantas veces esta un elemento repetido\n",
    "tuple4 = (65,67,5,67,34,76,67,231,98,67)\n",
    "print(tuple4.count(67))"
   ]
  },
  {
   "cell_type": "code",
   "execution_count": 57,
   "id": "28aeaa59",
   "metadata": {
    "colab": {},
    "colab_type": "code",
    "id": "bI1ej2m4GqMW"
   },
   "outputs": [
    {
     "name": "stdout",
     "output_type": "stream",
     "text": [
      "34\n",
      "67\n",
      "(65, 67, 5, 67)\n",
      "(76, 67, 231, 98, 67)\n",
      "(34, 76, 67, 231)\n",
      "(67, 34, 76)\n"
     ]
    }
   ],
   "source": [
    "# Indexación\n",
    "print(tuple4[4])\n",
    "print(tuple4[-4])\n",
    "print(tuple4[:4])\n",
    "print(tuple4[5:])\n",
    "print(tuple4[-6:-2])\n",
    "print(tuple4[3:6])"
   ]
  }
 ],
 "metadata": {
  "colab": {
   "collapsed_sections": [],
   "name": "Fundamentos de Python Parte 1.ipynb",
   "provenance": [
    {
     "file_id": "1JccNwcj5e4lD5IpLCyoXvYLfFvZGW0dx",
     "timestamp": 1591047389141
    }
   ]
  },
  "kernelspec": {
   "display_name": "Python 3",
   "language": "python",
   "name": "python3"
  },
  "language_info": {
   "codemirror_mode": {
    "name": "ipython",
    "version": 3
   },
   "file_extension": ".py",
   "mimetype": "text/x-python",
   "name": "python",
   "nbconvert_exporter": "python",
   "pygments_lexer": "ipython3",
   "version": "3.11.9"
  }
 },
 "nbformat": 4,
 "nbformat_minor": 5
}