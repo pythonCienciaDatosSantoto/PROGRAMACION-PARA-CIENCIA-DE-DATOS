{
 "cells": [
  {
   "cell_type": "markdown",
   "metadata": {},
   "source": [
    "### 🧮 Agrupamientos y Agregaciones\n",
    "\n",
    "Has aprendido a seleccionar y filtrar datos. Ahora es el momento de empezar a resumirlos para extraer insights valiosos. La agrupación de datos es una de las funcionalidades más potentes de Pandas y se basa en un paradigma llamado **Split-Apply-Combine** (Dividir-Aplicar-Combinar).\n",
    "\n",
    "1.  **Split (Dividir):** El `DataFrame` se divide en grupos más pequeños basados en los valores de una o más columnas.\n",
    "2.  **Apply (Aplicar):** Se aplica una función a cada uno de esos grupos de forma independiente (por ejemplo, calcular la media, sumar, contar, etc.).\n",
    "3.  **Combine (Combinar):** Los resultados de aplicar la función a cada grupo se combinan en una nueva estructura de datos (normalmente un `DataFrame` o una `Serie`)."
   ]
  },
  {
   "cell_type": "markdown",
   "metadata": {},
   "source": [
    "* **4.1. El Poder de `.groupby()`**\n",
    "\n",
    "El método `.groupby()` es el que inicia este proceso. Por sí solo, no calcula nada, sino que crea un objeto especial `DataFrameGroupBy` que está listo para que le apliques una función de agregación."
   ]
  },
  {
   "cell_type": "code",
   "execution_count": 1,
   "metadata": {},
   "outputs": [
    {
     "name": "stdout",
     "output_type": "stream",
     "text": [
      "<pandas.core.groupby.generic.DataFrameGroupBy object at 0x0000023AF7D18E10>\n"
     ]
    }
   ],
   "source": [
    "import pandas as pd\n",
    "\n",
    "# Cargamos de nuevo el dataset de pingüinos\n",
    "url = 'https://raw.githubusercontent.com/allisonhorst/palmerpenguins/main/inst/extdata/penguins.csv'\n",
    "df = pd.read_csv(url)\n",
    "\n",
    "# Agrupemos los datos por la columna 'species'\n",
    "grupos_por_especie = df.groupby('species')\n",
    "\n",
    "# ¿Qué es este objeto?\n",
    "print(grupos_por_especie)"
   ]
  },
  {
   "cell_type": "markdown",
   "metadata": {},
   "source": [
    "Como ves, no es un DataFrame. Es un objeto que contiene la información sobre los grupos. Ahora, apliquemos una función."
   ]
  },
  {
   "cell_type": "code",
   "execution_count": 2,
   "metadata": {},
   "outputs": [
    {
     "name": "stdout",
     "output_type": "stream",
     "text": [
      "Media de las variables numéricas por especie:\n"
     ]
    },
    {
     "data": {
      "text/html": [
       "<div>\n",
       "<style scoped>\n",
       "    .dataframe tbody tr th:only-of-type {\n",
       "        vertical-align: middle;\n",
       "    }\n",
       "\n",
       "    .dataframe tbody tr th {\n",
       "        vertical-align: top;\n",
       "    }\n",
       "\n",
       "    .dataframe thead th {\n",
       "        text-align: right;\n",
       "    }\n",
       "</style>\n",
       "<table border=\"1\" class=\"dataframe\">\n",
       "  <thead>\n",
       "    <tr style=\"text-align: right;\">\n",
       "      <th></th>\n",
       "      <th>bill_length_mm</th>\n",
       "      <th>bill_depth_mm</th>\n",
       "      <th>flipper_length_mm</th>\n",
       "      <th>body_mass_g</th>\n",
       "      <th>year</th>\n",
       "    </tr>\n",
       "    <tr>\n",
       "      <th>species</th>\n",
       "      <th></th>\n",
       "      <th></th>\n",
       "      <th></th>\n",
       "      <th></th>\n",
       "      <th></th>\n",
       "    </tr>\n",
       "  </thead>\n",
       "  <tbody>\n",
       "    <tr>\n",
       "      <th>Adelie</th>\n",
       "      <td>38.791391</td>\n",
       "      <td>18.346358</td>\n",
       "      <td>189.953642</td>\n",
       "      <td>3700.662252</td>\n",
       "      <td>2008.013158</td>\n",
       "    </tr>\n",
       "    <tr>\n",
       "      <th>Chinstrap</th>\n",
       "      <td>48.833824</td>\n",
       "      <td>18.420588</td>\n",
       "      <td>195.823529</td>\n",
       "      <td>3733.088235</td>\n",
       "      <td>2007.970588</td>\n",
       "    </tr>\n",
       "    <tr>\n",
       "      <th>Gentoo</th>\n",
       "      <td>47.504878</td>\n",
       "      <td>14.982114</td>\n",
       "      <td>217.186992</td>\n",
       "      <td>5076.016260</td>\n",
       "      <td>2008.080645</td>\n",
       "    </tr>\n",
       "  </tbody>\n",
       "</table>\n",
       "</div>"
      ],
      "text/plain": [
       "           bill_length_mm  bill_depth_mm  flipper_length_mm  body_mass_g  \\\n",
       "species                                                                    \n",
       "Adelie          38.791391      18.346358         189.953642  3700.662252   \n",
       "Chinstrap       48.833824      18.420588         195.823529  3733.088235   \n",
       "Gentoo          47.504878      14.982114         217.186992  5076.016260   \n",
       "\n",
       "                  year  \n",
       "species                 \n",
       "Adelie     2008.013158  \n",
       "Chinstrap  2007.970588  \n",
       "Gentoo     2008.080645  "
      ]
     },
     "metadata": {},
     "output_type": "display_data"
    }
   ],
   "source": [
    "# Apply: Calculemos la media de todas las columnas numéricas para cada grupo\n",
    "# Agregamos numeric_only=True para evitar un error con las columnas no numéricas\n",
    "media_por_especie = grupos_por_especie.mean(numeric_only=True)\n",
    "\n",
    "print(\"Media de las variables numéricas por especie:\")\n",
    "display(media_por_especie)"
   ]
  },
  {
   "cell_type": "markdown",
   "metadata": {},
   "source": [
    "**Nota sobre el error `TypeError`:** Si ejecutas `grupos_por_especie.mean()` sin más, en versiones recientes de Pandas podrías obtener un `TypeError`. Esto se debe a que el DataFrame contiene columnas no numéricas (como `island` y `sex`) y Pandas ya no intenta adivinar si debe ignorarlas. La solución correcta es ser explícito y usar `numeric_only=True` para indicarle que solo calcule la media de las columnas que son numéricas."
   ]
  },
  {
   "cell_type": "markdown",
   "metadata": {},
   "source": [
    "¡Magia! Pandas dividió el DataFrame en 3 grupos (Adelie, Chinstrap, Gentoo), calculó la media de las columnas numéricas para cada uno y combinó los resultados en un nuevo DataFrame.\n",
    "\n",
    "Puedes ser más específico y calcular la agregación solo para una columna."
   ]
  },
  {
   "cell_type": "code",
   "execution_count": 3,
   "metadata": {},
   "outputs": [
    {
     "name": "stdout",
     "output_type": "stream",
     "text": [
      "Media de la masa corporal por especie:\n"
     ]
    },
    {
     "data": {
      "text/plain": [
       "species\n",
       "Adelie       3700.662252\n",
       "Chinstrap    3733.088235\n",
       "Gentoo       5076.016260\n",
       "Name: body_mass_g, dtype: float64"
      ]
     },
     "metadata": {},
     "output_type": "display_data"
    }
   ],
   "source": [
    "# Media de la masa corporal ('body_mass_g') por especie\n",
    "media_masa_por_especie = df.groupby('species')['body_mass_g'].mean()\n",
    "\n",
    "print(\"Media de la masa corporal por especie:\")\n",
    "display(media_masa_por_especie)"
   ]
  },
  {
   "cell_type": "markdown",
   "metadata": {},
   "source": [
    "* **4.2. Agregaciones Múltiples con `.agg()`**\n",
    "\n",
    "¿Y si quieres calcular varias métricas a la vez? Para eso está el método `.agg()`. Puedes pasarle una lista de funciones a una sola columna:"
   ]
  },
  {
   "cell_type": "code",
   "execution_count": 4,
   "metadata": {},
   "outputs": [
    {
     "data": {
      "text/html": [
       "<div>\n",
       "<style scoped>\n",
       "    .dataframe tbody tr th:only-of-type {\n",
       "        vertical-align: middle;\n",
       "    }\n",
       "\n",
       "    .dataframe tbody tr th {\n",
       "        vertical-align: top;\n",
       "    }\n",
       "\n",
       "    .dataframe thead th {\n",
       "        text-align: right;\n",
       "    }\n",
       "</style>\n",
       "<table border=\"1\" class=\"dataframe\">\n",
       "  <thead>\n",
       "    <tr style=\"text-align: right;\">\n",
       "      <th></th>\n",
       "      <th>mean</th>\n",
       "      <th>median</th>\n",
       "      <th>std</th>\n",
       "    </tr>\n",
       "    <tr>\n",
       "      <th>species</th>\n",
       "      <th></th>\n",
       "      <th></th>\n",
       "      <th></th>\n",
       "    </tr>\n",
       "  </thead>\n",
       "  <tbody>\n",
       "    <tr>\n",
       "      <th>Adelie</th>\n",
       "      <td>189.953642</td>\n",
       "      <td>190.0</td>\n",
       "      <td>6.539457</td>\n",
       "    </tr>\n",
       "    <tr>\n",
       "      <th>Chinstrap</th>\n",
       "      <td>195.823529</td>\n",
       "      <td>196.0</td>\n",
       "      <td>7.131894</td>\n",
       "    </tr>\n",
       "    <tr>\n",
       "      <th>Gentoo</th>\n",
       "      <td>217.186992</td>\n",
       "      <td>216.0</td>\n",
       "      <td>6.484976</td>\n",
       "    </tr>\n",
       "  </tbody>\n",
       "</table>\n",
       "</div>"
      ],
      "text/plain": [
       "                 mean  median       std\n",
       "species                                \n",
       "Adelie     189.953642   190.0  6.539457\n",
       "Chinstrap  195.823529   196.0  7.131894\n",
       "Gentoo     217.186992   216.0  6.484976"
      ]
     },
     "metadata": {},
     "output_type": "display_data"
    }
   ],
   "source": [
    "# Para la columna 'flipper_length_mm', calculemos la media, la mediana y la desviación estándar\n",
    "agregaciones_aleta = df.groupby('species')['flipper_length_mm'].agg(['mean', 'median', 'std'])\n",
    "\n",
    "display(agregaciones_aleta)"
   ]
  },
  {
   "cell_type": "markdown",
   "metadata": {},
   "source": [
    "**Sintaxis Avanzada con Diccionarios**\n",
    "\n",
    "Para un control aún mayor, puedes usar un diccionario para aplicar **diferentes funciones a diferentes columnas**. ¡Incluso puedes aplicar múltiples funciones a la misma columna!"
   ]
  },
  {
   "cell_type": "code",
   "execution_count": 5,
   "metadata": {},
   "outputs": [
    {
     "data": {
      "text/html": [
       "<div>\n",
       "<style scoped>\n",
       "    .dataframe tbody tr th:only-of-type {\n",
       "        vertical-align: middle;\n",
       "    }\n",
       "\n",
       "    .dataframe tbody tr th {\n",
       "        vertical-align: top;\n",
       "    }\n",
       "\n",
       "    .dataframe thead tr th {\n",
       "        text-align: left;\n",
       "    }\n",
       "\n",
       "    .dataframe thead tr:last-of-type th {\n",
       "        text-align: right;\n",
       "    }\n",
       "</style>\n",
       "<table border=\"1\" class=\"dataframe\">\n",
       "  <thead>\n",
       "    <tr>\n",
       "      <th></th>\n",
       "      <th colspan=\"2\" halign=\"left\">bill_length_mm</th>\n",
       "      <th>body_mass_g</th>\n",
       "      <th>sex</th>\n",
       "    </tr>\n",
       "    <tr>\n",
       "      <th></th>\n",
       "      <th>min</th>\n",
       "      <th>max</th>\n",
       "      <th>mean</th>\n",
       "      <th>count</th>\n",
       "    </tr>\n",
       "    <tr>\n",
       "      <th>species</th>\n",
       "      <th></th>\n",
       "      <th></th>\n",
       "      <th></th>\n",
       "      <th></th>\n",
       "    </tr>\n",
       "  </thead>\n",
       "  <tbody>\n",
       "    <tr>\n",
       "      <th>Adelie</th>\n",
       "      <td>32.1</td>\n",
       "      <td>46.0</td>\n",
       "      <td>3700.662252</td>\n",
       "      <td>146</td>\n",
       "    </tr>\n",
       "    <tr>\n",
       "      <th>Chinstrap</th>\n",
       "      <td>40.9</td>\n",
       "      <td>58.0</td>\n",
       "      <td>3733.088235</td>\n",
       "      <td>68</td>\n",
       "    </tr>\n",
       "    <tr>\n",
       "      <th>Gentoo</th>\n",
       "      <td>40.9</td>\n",
       "      <td>59.6</td>\n",
       "      <td>5076.016260</td>\n",
       "      <td>119</td>\n",
       "    </tr>\n",
       "  </tbody>\n",
       "</table>\n",
       "</div>"
      ],
      "text/plain": [
       "          bill_length_mm        body_mass_g   sex\n",
       "                     min   max         mean count\n",
       "species                                          \n",
       "Adelie              32.1  46.0  3700.662252   146\n",
       "Chinstrap           40.9  58.0  3733.088235    68\n",
       "Gentoo              40.9  59.6  5076.016260   119"
      ]
     },
     "metadata": {},
     "output_type": "display_data"
    }
   ],
   "source": [
    "# Usando un diccionario para especificar las agregaciones\n",
    "# Para 'bill_length_mm' queremos la mínima y máxima\n",
    "# Para 'body_mass_g' queremos la media\n",
    "# Para 'sex' queremos contar cuántos hay\n",
    "\n",
    "agregaciones_dict = {\n",
    "    'bill_length_mm': ['min', 'max'],\n",
    "    'body_mass_g': 'mean',\n",
    "    'sex': 'count'\n",
    "}\n",
    "\n",
    "resumen_con_dict = df.groupby('species').agg(agregaciones_dict)\n",
    "\n",
    "display(resumen_con_dict)"
   ]
  },
  {
   "cell_type": "markdown",
   "metadata": {},
   "source": [
    "*Nota*: Fíjate que el resultado tiene columnas con múltiples niveles (un `MultiIndex`). Esto es potente, pero a veces queremos un resultado \"plano\". Para eso, la siguiente sintaxis es la más recomendada.\n",
    "\n",
    "**La Mejor Práctica: Agregaciones Nombradas**\n",
    "\n",
    "La sintaxis más moderna y legible te permite aplicar diferentes funciones a diferentes columnas y, lo más importante, **nombrar las columnas resultantes directamente**. Esto evita el `MultiIndex` y hace el código más fácil de leer."
   ]
  },
  {
   "cell_type": "code",
   "execution_count": 6,
   "metadata": {},
   "outputs": [
    {
     "data": {
      "text/html": [
       "<div>\n",
       "<style scoped>\n",
       "    .dataframe tbody tr th:only-of-type {\n",
       "        vertical-align: middle;\n",
       "    }\n",
       "\n",
       "    .dataframe tbody tr th {\n",
       "        vertical-align: top;\n",
       "    }\n",
       "\n",
       "    .dataframe thead th {\n",
       "        text-align: right;\n",
       "    }\n",
       "</style>\n",
       "<table border=\"1\" class=\"dataframe\">\n",
       "  <thead>\n",
       "    <tr style=\"text-align: right;\">\n",
       "      <th></th>\n",
       "      <th></th>\n",
       "      <th>conteo_pingüinos</th>\n",
       "      <th>media_masa_corporal</th>\n",
       "      <th>max_largo_pico</th>\n",
       "      <th>min_largo_pico</th>\n",
       "    </tr>\n",
       "    <tr>\n",
       "      <th>species</th>\n",
       "      <th>island</th>\n",
       "      <th></th>\n",
       "      <th></th>\n",
       "      <th></th>\n",
       "      <th></th>\n",
       "    </tr>\n",
       "  </thead>\n",
       "  <tbody>\n",
       "    <tr>\n",
       "      <th rowspan=\"3\" valign=\"top\">Adelie</th>\n",
       "      <th>Biscoe</th>\n",
       "      <td>44</td>\n",
       "      <td>3709.659091</td>\n",
       "      <td>45.6</td>\n",
       "      <td>34.5</td>\n",
       "    </tr>\n",
       "    <tr>\n",
       "      <th>Dream</th>\n",
       "      <td>55</td>\n",
       "      <td>3688.392857</td>\n",
       "      <td>44.1</td>\n",
       "      <td>32.1</td>\n",
       "    </tr>\n",
       "    <tr>\n",
       "      <th>Torgersen</th>\n",
       "      <td>47</td>\n",
       "      <td>3706.372549</td>\n",
       "      <td>46.0</td>\n",
       "      <td>33.5</td>\n",
       "    </tr>\n",
       "    <tr>\n",
       "      <th>Chinstrap</th>\n",
       "      <th>Dream</th>\n",
       "      <td>68</td>\n",
       "      <td>3733.088235</td>\n",
       "      <td>58.0</td>\n",
       "      <td>40.9</td>\n",
       "    </tr>\n",
       "    <tr>\n",
       "      <th>Gentoo</th>\n",
       "      <th>Biscoe</th>\n",
       "      <td>119</td>\n",
       "      <td>5076.016260</td>\n",
       "      <td>59.6</td>\n",
       "      <td>40.9</td>\n",
       "    </tr>\n",
       "  </tbody>\n",
       "</table>\n",
       "</div>"
      ],
      "text/plain": [
       "                     conteo_pingüinos  media_masa_corporal  max_largo_pico  \\\n",
       "species   island                                                             \n",
       "Adelie    Biscoe                   44          3709.659091            45.6   \n",
       "          Dream                    55          3688.392857            44.1   \n",
       "          Torgersen                47          3706.372549            46.0   \n",
       "Chinstrap Dream                    68          3733.088235            58.0   \n",
       "Gentoo    Biscoe                  119          5076.016260            59.6   \n",
       "\n",
       "                     min_largo_pico  \n",
       "species   island                     \n",
       "Adelie    Biscoe               34.5  \n",
       "          Dream                32.1  \n",
       "          Torgersen            33.5  \n",
       "Chinstrap Dream                40.9  \n",
       "Gentoo    Biscoe               40.9  "
      ]
     },
     "metadata": {},
     "output_type": "display_data"
    }
   ],
   "source": [
    "# Agrupemos por especie e isla, y calculemos métricas específicas\n",
    "resumen_detallado = df.groupby(['species', 'island']).agg(\n",
    "    conteo_pingüinos=('sex', 'count'),\n",
    "    media_masa_corporal=('body_mass_g', 'mean'),\n",
    "    max_largo_pico=('bill_length_mm', 'max'),\n",
    "    min_largo_pico=('bill_length_mm', 'min')\n",
    ")\n",
    "\n",
    "display(resumen_detallado)"
   ]
  },
  {
   "cell_type": "markdown",
   "metadata": {},
   "source": [
    "* **4.3. Ordenando los Resultados con `.sort_values()`**\n",
    "\n",
    "A menudo, querrás ordenar los resultados de tus agregaciones para ver los valores más altos o más bajos."
   ]
  },
  {
   "cell_type": "code",
   "execution_count": 7,
   "metadata": {},
   "outputs": [
    {
     "data": {
      "text/html": [
       "<div>\n",
       "<style scoped>\n",
       "    .dataframe tbody tr th:only-of-type {\n",
       "        vertical-align: middle;\n",
       "    }\n",
       "\n",
       "    .dataframe tbody tr th {\n",
       "        vertical-align: top;\n",
       "    }\n",
       "\n",
       "    .dataframe thead th {\n",
       "        text-align: right;\n",
       "    }\n",
       "</style>\n",
       "<table border=\"1\" class=\"dataframe\">\n",
       "  <thead>\n",
       "    <tr style=\"text-align: right;\">\n",
       "      <th></th>\n",
       "      <th></th>\n",
       "      <th>conteo_pingüinos</th>\n",
       "      <th>media_masa_corporal</th>\n",
       "      <th>max_largo_pico</th>\n",
       "      <th>min_largo_pico</th>\n",
       "    </tr>\n",
       "    <tr>\n",
       "      <th>species</th>\n",
       "      <th>island</th>\n",
       "      <th></th>\n",
       "      <th></th>\n",
       "      <th></th>\n",
       "      <th></th>\n",
       "    </tr>\n",
       "  </thead>\n",
       "  <tbody>\n",
       "    <tr>\n",
       "      <th>Gentoo</th>\n",
       "      <th>Biscoe</th>\n",
       "      <td>119</td>\n",
       "      <td>5076.016260</td>\n",
       "      <td>59.6</td>\n",
       "      <td>40.9</td>\n",
       "    </tr>\n",
       "    <tr>\n",
       "      <th>Chinstrap</th>\n",
       "      <th>Dream</th>\n",
       "      <td>68</td>\n",
       "      <td>3733.088235</td>\n",
       "      <td>58.0</td>\n",
       "      <td>40.9</td>\n",
       "    </tr>\n",
       "    <tr>\n",
       "      <th rowspan=\"3\" valign=\"top\">Adelie</th>\n",
       "      <th>Biscoe</th>\n",
       "      <td>44</td>\n",
       "      <td>3709.659091</td>\n",
       "      <td>45.6</td>\n",
       "      <td>34.5</td>\n",
       "    </tr>\n",
       "    <tr>\n",
       "      <th>Torgersen</th>\n",
       "      <td>47</td>\n",
       "      <td>3706.372549</td>\n",
       "      <td>46.0</td>\n",
       "      <td>33.5</td>\n",
       "    </tr>\n",
       "    <tr>\n",
       "      <th>Dream</th>\n",
       "      <td>55</td>\n",
       "      <td>3688.392857</td>\n",
       "      <td>44.1</td>\n",
       "      <td>32.1</td>\n",
       "    </tr>\n",
       "  </tbody>\n",
       "</table>\n",
       "</div>"
      ],
      "text/plain": [
       "                     conteo_pingüinos  media_masa_corporal  max_largo_pico  \\\n",
       "species   island                                                             \n",
       "Gentoo    Biscoe                  119          5076.016260            59.6   \n",
       "Chinstrap Dream                    68          3733.088235            58.0   \n",
       "Adelie    Biscoe                   44          3709.659091            45.6   \n",
       "          Torgersen                47          3706.372549            46.0   \n",
       "          Dream                    55          3688.392857            44.1   \n",
       "\n",
       "                     min_largo_pico  \n",
       "species   island                     \n",
       "Gentoo    Biscoe               40.9  \n",
       "Chinstrap Dream                40.9  \n",
       "Adelie    Biscoe               34.5  \n",
       "          Torgersen            33.5  \n",
       "          Dream                32.1  "
      ]
     },
     "metadata": {},
     "output_type": "display_data"
    }
   ],
   "source": [
    "# Usemos el resumen anterior y ordenémoslo por la media de la masa corporal\n",
    "# de forma descendente (los más pesados primero)\n",
    "\n",
    "resumen_ordenado = resumen_detallado.sort_values(by='media_masa_corporal', ascending=False)\n",
    "\n",
    "display(resumen_ordenado)"
   ]
  },
  {
   "cell_type": "markdown",
   "metadata": {},
   "source": [
    "* **4.4. ¿A Dónde se Fue mi Columna? `.reset_index()`**\n",
    "\n",
    "Fíjate en los DataFrames que hemos creado con `groupby`. Las columnas por las que agrupamos (`species`, `island`) no son columnas normales, ¡son el **índice** del DataFrame!\n",
    "\n",
    "Esto es útil, pero a veces quieres que vuelvan a ser columnas para poder filtrarlas o usarlas en gráficos. Para eso sirve `.reset_index()`."
   ]
  },
  {
   "cell_type": "code",
   "execution_count": 8,
   "metadata": {},
   "outputs": [
    {
     "name": "stdout",
     "output_type": "stream",
     "text": [
      "Índice ANTES de reset_index:\n",
      "MultiIndex([(   'Gentoo',    'Biscoe'),\n",
      "            ('Chinstrap',     'Dream'),\n",
      "            (   'Adelie',    'Biscoe'),\n",
      "            (   'Adelie', 'Torgersen'),\n",
      "            (   'Adelie',     'Dream')],\n",
      "           names=['species', 'island'])\n",
      "\n",
      "DataFrame DESPUÉS de reset_index:\n"
     ]
    },
    {
     "data": {
      "text/html": [
       "<div>\n",
       "<style scoped>\n",
       "    .dataframe tbody tr th:only-of-type {\n",
       "        vertical-align: middle;\n",
       "    }\n",
       "\n",
       "    .dataframe tbody tr th {\n",
       "        vertical-align: top;\n",
       "    }\n",
       "\n",
       "    .dataframe thead th {\n",
       "        text-align: right;\n",
       "    }\n",
       "</style>\n",
       "<table border=\"1\" class=\"dataframe\">\n",
       "  <thead>\n",
       "    <tr style=\"text-align: right;\">\n",
       "      <th></th>\n",
       "      <th>species</th>\n",
       "      <th>island</th>\n",
       "      <th>conteo_pingüinos</th>\n",
       "      <th>media_masa_corporal</th>\n",
       "      <th>max_largo_pico</th>\n",
       "      <th>min_largo_pico</th>\n",
       "    </tr>\n",
       "  </thead>\n",
       "  <tbody>\n",
       "    <tr>\n",
       "      <th>0</th>\n",
       "      <td>Gentoo</td>\n",
       "      <td>Biscoe</td>\n",
       "      <td>119</td>\n",
       "      <td>5076.016260</td>\n",
       "      <td>59.6</td>\n",
       "      <td>40.9</td>\n",
       "    </tr>\n",
       "    <tr>\n",
       "      <th>1</th>\n",
       "      <td>Chinstrap</td>\n",
       "      <td>Dream</td>\n",
       "      <td>68</td>\n",
       "      <td>3733.088235</td>\n",
       "      <td>58.0</td>\n",
       "      <td>40.9</td>\n",
       "    </tr>\n",
       "    <tr>\n",
       "      <th>2</th>\n",
       "      <td>Adelie</td>\n",
       "      <td>Biscoe</td>\n",
       "      <td>44</td>\n",
       "      <td>3709.659091</td>\n",
       "      <td>45.6</td>\n",
       "      <td>34.5</td>\n",
       "    </tr>\n",
       "    <tr>\n",
       "      <th>3</th>\n",
       "      <td>Adelie</td>\n",
       "      <td>Torgersen</td>\n",
       "      <td>47</td>\n",
       "      <td>3706.372549</td>\n",
       "      <td>46.0</td>\n",
       "      <td>33.5</td>\n",
       "    </tr>\n",
       "    <tr>\n",
       "      <th>4</th>\n",
       "      <td>Adelie</td>\n",
       "      <td>Dream</td>\n",
       "      <td>55</td>\n",
       "      <td>3688.392857</td>\n",
       "      <td>44.1</td>\n",
       "      <td>32.1</td>\n",
       "    </tr>\n",
       "  </tbody>\n",
       "</table>\n",
       "</div>"
      ],
      "text/plain": [
       "     species     island  conteo_pingüinos  media_masa_corporal  \\\n",
       "0     Gentoo     Biscoe               119          5076.016260   \n",
       "1  Chinstrap      Dream                68          3733.088235   \n",
       "2     Adelie     Biscoe                44          3709.659091   \n",
       "3     Adelie  Torgersen                47          3706.372549   \n",
       "4     Adelie      Dream                55          3688.392857   \n",
       "\n",
       "   max_largo_pico  min_largo_pico  \n",
       "0            59.6            40.9  \n",
       "1            58.0            40.9  \n",
       "2            45.6            34.5  \n",
       "3            46.0            33.5  \n",
       "4            44.1            32.1  "
      ]
     },
     "metadata": {},
     "output_type": "display_data"
    }
   ],
   "source": [
    "# El índice de nuestro resumen son 'species' e 'island'\n",
    "print(\"Índice ANTES de reset_index:\")\n",
    "print(resumen_ordenado.index)\n",
    "\n",
    "# Convertimos el índice en columnas\n",
    "resumen_final = resumen_ordenado.reset_index()\n",
    "\n",
    "print(\"\\nDataFrame DESPUÉS de reset_index:\")\n",
    "display(resumen_final.head())"
   ]
  },
  {
   "cell_type": "markdown",
   "metadata": {},
   "source": [
    "Ahora `species` e `island` son columnas normales y el DataFrame tiene un nuevo índice numérico simple."
   ]
  },
  {
   "cell_type": "markdown",
   "metadata": {},
   "source": [
    "* **🧠 Ejercicios Propuestos**\n",
    "\n",
    "Volvemos al Titanic. `url_titanic = 'https://raw.githubusercontent.com/datasciencedojo/datasets/master/titanic.csv'`\n",
    "\n",
    "1. **Carga los datos.**\n",
    "\n",
    "2. **Agregación Simple:** Calcula la edad (`Age`) promedio de los pasajeros agrupando por clase (`Pclass`). ¿En qué clase viajaban los pasajeros de mayor edad en promedio?\n",
    "\n",
    "3. **Agregación por Múltiples Columnas:** Calcula la tarifa (`Fare`) promedio pagada, agrupando por clase (`Pclass`) y sexo (`Sex`).\n",
    "\n",
    "4. **Agregaciones Múltiples con `.agg()`:**\n",
    "\n",
    "   * Agrupa los datos por la columna `Survived` (0 = No, 1 = Sí).\n",
    "\n",
    "   * Para cada grupo, calcula la edad media (`mean`), la tarifa máxima (`max`) y la tarifa mínima (`min`).\n",
    "\n",
    "   * Usa la sintaxis de **agregaciones nombradas** para las nuevas columnas.\n",
    "\n",
    "5. **Desafío Completo:** Encuentra la tasa de supervivencia por clase. Para ello, agrupa por `Pclass` y calcula la media de la columna `Survived` (como `Survived` es 0 o 1, la media es la proporción o tasa de supervivencia). Ordena el resultado para ver qué clase tuvo la mayor tasa de supervivencia."
   ]
  }
 ],
 "metadata": {
  "kernelspec": {
   "display_name": "Python 3",
   "language": "python",
   "name": "python3"
  },
  "language_info": {
   "codemirror_mode": {
    "name": "ipython",
    "version": 3
   },
   "file_extension": ".py",
   "mimetype": "text/x-python",
   "name": "python",
   "nbconvert_exporter": "python",
   "pygments_lexer": "ipython3",
   "version": "3.11.9"
  }
 },
 "nbformat": 4,
 "nbformat_minor": 4
}
