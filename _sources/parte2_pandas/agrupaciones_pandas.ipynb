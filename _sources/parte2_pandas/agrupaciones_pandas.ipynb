{
 "cells": [
  {
   "cell_type": "markdown",
   "metadata": {},
   "source": [
    "### 🧮 Agrupamientos y Agregaciones\n",
    "\n",
    "Has aprendido a seleccionar y filtrar datos. Ahora es el momento de empezar a resumirlos para extraer insights valiosos. La agrupación de datos es una de las funcionalidades más potentes de Pandas y se basa en un paradigma llamado **Split-Apply-Combine** (Dividir-Aplicar-Combinar).\n",
    "\n",
    "1.  **Split (Dividir):** El `DataFrame` se divide en grupos más pequeños basados en los valores de una o más columnas.\n",
    "2.  **Apply (Aplicar):** Se aplica una función a cada uno de esos grupos de forma independiente (por ejemplo, calcular la media, sumar, contar, etc.).\n",
    "3.  **Combine (Combinar):** Los resultados de aplicar la función a cada grupo se combinan en una nueva estructura de datos (normalmente un `DataFrame` o una `Serie`)."
   ]
  },
  {
   "cell_type": "markdown",
   "metadata": {},
   "source": [
    "* **4.1. El Poder de `.groupby()`**\n",
    "\n",
    "El método `.groupby()` es el que inicia este proceso. Por sí solo, no calcula nada, sino que crea un objeto especial `DataFrameGroupBy` que está listo para que le apliques una función de agregación."
   ]
  },
  {
   "cell_type": "code",
   "execution_count": null,
   "metadata": {},
   "outputs": [],
   "source": [
    "import pandas as pd\n",
    "\n",
    "# Cargamos de nuevo el dataset de pingüinos\n",
    "url = 'https://raw.githubusercontent.com/allisonhorst/palmerpenguins/main/inst/extdata/penguins.csv'\n",
    "df = pd.read_csv(url)\n",
    "\n",
    "# Agrupemos los datos por la columna 'species'\n",
    "grupos_por_especie = df.groupby('species')\n",
    "\n",
    "# ¿Qué es este objeto?\n",
    "print(grupos_por_especie)"
   ]
  },
  {
   "cell_type": "markdown",
   "metadata": {},
   "source": [
    "Como ves, no es un DataFrame. Es un objeto que contiene la información sobre los grupos. Ahora, apliquemos una función."
   ]
  },
  {
   "cell_type": "code",
   "execution_count": null,
   "metadata": {},
   "outputs": [],
   "source": [
    "# Apply: Calculemos la media de todas las columnas numéricas para cada grupo\n",
    "media_por_especie = grupos_por_especie.mean()\n",
    "\n",
    "print(\"Media de las variables numéricas por especie:\")\n",
    "display(media_por_especie)"
   ]
  },
  {
   "cell_type": "markdown",
   "metadata": {},
   "source": [
    "¡Magia! Pandas dividió el DataFrame en 3 grupos (Adelie, Chinstrap, Gentoo), calculó la media de las columnas numéricas para cada uno y combinó los resultados en un nuevo DataFrame.\n",
    "\n",
    "Puedes ser más específico y calcular la agregación solo para una columna."
   ]
  },
  {
   "cell_type": "code",
   "execution_count": null,
   "metadata": {},
   "outputs": [],
   "source": [
    "# Media de la masa corporal ('body_mass_g') por especie\n",
    "media_masa_por_especie = df.groupby('species')['body_mass_g'].mean()\n",
    "\n",
    "print(\"Media de la masa corporal por especie:\")\n",
    "display(media_masa_por_especie)"
   ]
  },
  {
   "cell_type": "markdown",
   "metadata": {},
   "source": [
    "* **4.2. Agregaciones Múltiples con `.agg()`**\n",
    "\n",
    "¿Y si quieres calcular varias métricas a la vez? Para eso está el método `.agg()`. Puedes pasarle una lista de funciones a una sola columna:"
   ]
  },
  {
   "cell_type": "code",
   "execution_count": null,
   "metadata": {},
   "outputs": [],
   "source": [
    "# Para la columna 'flipper_length_mm', calculemos la media, la mediana y la desviación estándar\n",
    "agregaciones_aleta = df.groupby('species')['flipper_length_mm'].agg(['mean', 'median', 'std'])\n",
    "\n",
    "display(agregaciones_aleta)"
   ]
  },
  {
   "cell_type": "markdown",
   "metadata": {},
   "source": [
    "**Sintaxis Avanzada con Diccionarios**\n",
    "\n",
    "Para un control aún mayor, puedes usar un diccionario para aplicar **diferentes funciones a diferentes columnas**. ¡Incluso puedes aplicar múltiples funciones a la misma columna!"
   ]
  },
  {
   "cell_type": "code",
   "execution_count": null,
   "metadata": {},
   "outputs": [],
   "source": [
    "# Usando un diccionario para especificar las agregaciones\n",
    "# Para 'bill_length_mm' queremos la mínima y máxima\n",
    "# Para 'body_mass_g' queremos la media\n",
    "# Para 'sex' queremos contar cuántos hay\n",
    "\n",
    "agregaciones_dict = {\n",
    "    'bill_length_mm': ['min', 'max'],\n",
    "    'body_mass_g': 'mean',\n",
    "    'sex': 'count'\n",
    "}\n",
    "\n",
    "resumen_con_dict = df.groupby('species').agg(agregaciones_dict)\n",
    "\n",
    "display(resumen_con_dict)"
   ]
  },
  {
   "cell_type": "markdown",
   "metadata": {},
   "source": [
    "*Nota*: Fíjate que el resultado tiene columnas con múltiples niveles (un `MultiIndex`). Esto es potente, pero a veces queremos un resultado \"plano\". Para eso, la siguiente sintaxis es la más recomendada.\n",
    "\n",
    "**La Mejor Práctica: Agregaciones Nombradas**\n",
    "\n",
    "La sintaxis más moderna y legible te permite aplicar diferentes funciones a diferentes columnas y, lo más importante, **nombrar las columnas resultantes directamente**. Esto evita el `MultiIndex` y hace el código más fácil de leer."
   ]
  },
  {
   "cell_type": "code",
   "execution_count": null,
   "metadata": {},
   "outputs": [],
   "source": [
    "# Agrupemos por especie e isla, y calculemos métricas específicas\n",
    "resumen_detallado = df.groupby(['species', 'island']).agg(\n",
    "    conteo_pingüinos=('sex', 'count'),\n",
    "    media_masa_corporal=('body_mass_g', 'mean'),\n",
    "    max_largo_pico=('bill_length_mm', 'max'),\n",
    "    min_largo_pico=('bill_length_mm', 'min')\n",
    ")\n",
    "\n",
    "display(resumen_detallado)"
   ]
  },
  {
   "cell_type": "markdown",
   "metadata": {},
   "source": [
    "* **4.3. Ordenando los Resultados con `.sort_values()`**\n",
    "\n",
    "A menudo, querrás ordenar los resultados de tus agregaciones para ver los valores más altos o más bajos."
   ]
  },
  {
   "cell_type": "code",
   "execution_count": null,
   "metadata": {},
   "outputs": [],
   "source": [
    "# Usemos el resumen anterior y ordenémoslo por la media de la masa corporal\n",
    "# de forma descendente (los más pesados primero)\n",
    "\n",
    "resumen_ordenado = resumen_detallado.sort_values(by='media_masa_corporal', ascending=False)\n",
    "\n",
    "display(resumen_ordenado)"
   ]
  },
  {
   "cell_type": "markdown",
   "metadata": {},
   "source": [
    "* **4.4. ¿A Dónde se Fue mi Columna? `.reset_index()`**\n",
    "\n",
    "Fíjate en los DataFrames que hemos creado con `groupby`. Las columnas por las que agrupamos (`species`, `island`) no son columnas normales, ¡son el **índice** del DataFrame!\n",
    "\n",
    "Esto es útil, pero a veces quieres que vuelvan a ser columnas para poder filtrarlas o usarlas en gráficos. Para eso sirve `.reset_index()`."
   ]
  },
  {
   "cell_type": "code",
   "execution_count": null,
   "metadata": {},
   "outputs": [],
   "source": [
    "# El índice de nuestro resumen son 'species' e 'island'\n",
    "print(\"Índice ANTES de reset_index:\")\n",
    "print(resumen_ordenado.index)\n",
    "\n",
    "# Convertimos el índice en columnas\n",
    "resumen_final = resumen_ordenado.reset_index()\n",
    "\n",
    "print(\"\\nDataFrame DESPUÉS de reset_index:\")\n",
    "display(resumen_final.head())"
   ]
  },
  {
   "cell_type": "markdown",
   "metadata": {},
   "source": [
    "Ahora `species` e `island` son columnas normales y el DataFrame tiene un nuevo índice numérico simple."
   ]
  },
  {
   "cell_type": "markdown",
   "metadata": {},
   "source": [
    "* **🧠 Ejercicios Propuestos**\n",
    "\n",
    "Volvemos al Titanic. `url_titanic = 'https://raw.githubusercontent.com/datasciencedojo/datasets/master/titanic.csv'`\n",
    "\n",
    "1. **Carga los datos.**\n",
    "\n",
    "2. **Agregación Simple:** Calcula la edad (`Age`) promedio de los pasajeros agrupando por clase (`Pclass`). ¿En qué clase viajaban los pasajeros de mayor edad en promedio?\n",
    "\n",
    "3. **Agregación por Múltiples Columnas:** Calcula la tarifa (`Fare`) promedio pagada, agrupando por clase (`Pclass`) y sexo (`Sex`).\n",
    "\n",
    "4. **Agregaciones Múltiples con `.agg()`:**\n",
    "\n",
    "   * Agrupa los datos por la columna `Survived` (0 = No, 1 = Sí).\n",
    "\n",
    "   * Para cada grupo, calcula la edad media (`mean`), la tarifa máxima (`max`) y la tarifa mínima (`min`).\n",
    "\n",
    "   * Usa la sintaxis de **agregaciones nombradas** para las nuevas columnas.\n",
    "\n",
    "5. **Desafío Completo:** Encuentra la tasa de supervivencia por clase. Para ello, agrupa por `Pclass` y calcula la media de la columna `Survived` (como `Survived` es 0 o 1, la media es la proporción o tasa de supervivencia). Ordena el resultado para ver qué clase tuvo la mayor tasa de supervivencia."
   ]
  }
 ],
 "metadata": {
  "kernelspec": {
   "display_name": "Python 3",
   "language": "python",
   "name": "python3"
  },
  "language_info": {
   "codemirror_mode": {
    "name": "ipython",
    "version": 3
   },
   "file_extension": ".py",
   "mimetype": "text/x-python",
   "name": "python",
   "nbconvert_exporter": "python",
   "pygments_lexer": "ipython3",
   "version": "3.9.7"
  }
 },
 "nbformat": 4,
 "nbformat_minor": 4
}
